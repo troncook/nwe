{
 "cells": [
  {
   "cell_type": "markdown",
   "metadata": {},
   "source": [
    "# Energy NW Model Selection - CAQ vs. Non-CAQ"
   ]
  },
  {
   "cell_type": "markdown",
   "metadata": {},
   "source": [
    "The purpose of this notebook is to perform featurization on the text column and create a classification model. We will perform multiple tests on the models."
   ]
  },
  {
   "cell_type": "markdown",
   "metadata": {},
   "source": [
    "#### Load Data & Libraries"
   ]
  },
  {
   "cell_type": "code",
   "execution_count": 75,
   "metadata": {},
   "outputs": [],
   "source": [
    "#Standard Libraries\n",
    "import numpy as np\n",
    "import pandas as pd\n",
    "import os\n",
    "import time\n",
    "\n",
    "#Data Preprocessing\n",
    "from sklearn.model_selection import train_test_split\n",
    "\n",
    "#Vectorizers\n",
    "from sklearn.feature_extraction.text import CountVectorizer\n",
    "from sklearn.feature_extraction.text import TfidfTransformer, TfidfVectorizer\n",
    "\n",
    "#Feature Selectors\n",
    "from sklearn.feature_selection import chi2\n",
    "\n",
    "#Models\n",
    "from sklearn.naive_bayes import BernoulliNB\n",
    "from sklearn.linear_model import LogisticRegression\n",
    "from sklearn.ensemble import RandomForestClassifier\n",
    "from sklearn.svm import SVC\n",
    "from sklearn.neighbors import KNeighborsClassifier\n",
    "\n",
    "#Model Evaluation\n",
    "from sklearn.model_selection import cross_val_score, GridSearchCV\n",
    "from sklearn.metrics import confusion_matrix\n",
    "from sklearn.metrics import accuracy_score\n",
    "from sklearn import metrics\n",
    "\n",
    "import warnings\n",
    "warnings.filterwarnings(\"ignore\")"
   ]
  },
  {
   "cell_type": "code",
   "execution_count": 3,
   "metadata": {},
   "outputs": [
    {
     "data": {
      "text/html": [
       "<div>\n",
       "<style scoped>\n",
       "    .dataframe tbody tr th:only-of-type {\n",
       "        vertical-align: middle;\n",
       "    }\n",
       "\n",
       "    .dataframe tbody tr th {\n",
       "        vertical-align: top;\n",
       "    }\n",
       "\n",
       "    .dataframe thead th {\n",
       "        text-align: right;\n",
       "    }\n",
       "</style>\n",
       "<table border=\"1\" class=\"dataframe\">\n",
       "  <thead>\n",
       "    <tr style=\"text-align: right;\">\n",
       "      <th></th>\n",
       "      <th>AR_NUMBER</th>\n",
       "      <th>AR_PRIORITY</th>\n",
       "      <th>AR_SEVERITY</th>\n",
       "      <th>PRIORITY_SEVERITY</th>\n",
       "      <th>CONCAT_TEXT_FOR_WKS</th>\n",
       "    </tr>\n",
       "  </thead>\n",
       "  <tbody>\n",
       "    <tr>\n",
       "      <th>0</th>\n",
       "      <td>383472</td>\n",
       "      <td>CAQ</td>\n",
       "      <td>C</td>\n",
       "      <td>CAQ:C</td>\n",
       "      <td>rcic hpcs low cst level swap fill vent suction...</td>\n",
       "    </tr>\n",
       "    <tr>\n",
       "      <th>1</th>\n",
       "      <td>383473</td>\n",
       "      <td>CAQ</td>\n",
       "      <td>D</td>\n",
       "      <td>CAQ:D</td>\n",
       "      <td>rcic p not start run sop rcic fill direct star...</td>\n",
       "    </tr>\n",
       "    <tr>\n",
       "      <th>2</th>\n",
       "      <td>383474</td>\n",
       "      <td>CAQ</td>\n",
       "      <td>D</td>\n",
       "      <td>CAQ:D</td>\n",
       "      <td>hp drop hpcs suction switchover alarm hp drop ...</td>\n",
       "    </tr>\n",
       "    <tr>\n",
       "      <th>3</th>\n",
       "      <td>383476</td>\n",
       "      <td>NCAQ</td>\n",
       "      <td>4</td>\n",
       "      <td>NCAQ:4</td>\n",
       "      <td>bre bre need window evaluate bre</td>\n",
       "    </tr>\n",
       "    <tr>\n",
       "      <th>4</th>\n",
       "      <td>383477</td>\n",
       "      <td>CAQ</td>\n",
       "      <td>D</td>\n",
       "      <td>CAQ:D</td>\n",
       "      <td>receive rod drive control sys inop alarm recei...</td>\n",
       "    </tr>\n",
       "    <tr>\n",
       "      <th>5</th>\n",
       "      <td>383478</td>\n",
       "      <td>CAQ</td>\n",
       "      <td>D</td>\n",
       "      <td>CAQ:D</td>\n",
       "      <td>hpcs suction switchover alarm locked fill vent...</td>\n",
       "    </tr>\n",
       "    <tr>\n",
       "      <th>6</th>\n",
       "      <td>383479</td>\n",
       "      <td>NCAQ</td>\n",
       "      <td>3</td>\n",
       "      <td>NCAQ:3</td>\n",
       "      <td>cw cta approx overflow operator round note due...</td>\n",
       "    </tr>\n",
       "    <tr>\n",
       "      <th>7</th>\n",
       "      <td>383490</td>\n",
       "      <td>CAQ</td>\n",
       "      <td>D</td>\n",
       "      <td>CAQ:D</td>\n",
       "      <td>security cctv need maintenance security cctv n...</td>\n",
       "    </tr>\n",
       "    <tr>\n",
       "      <th>8</th>\n",
       "      <td>383491</td>\n",
       "      <td>CAQ</td>\n",
       "      <td>C</td>\n",
       "      <td>CAQ:C</td>\n",
       "      <td>sw va change lo without screen anonymous cr de...</td>\n",
       "    </tr>\n",
       "    <tr>\n",
       "      <th>9</th>\n",
       "      <td>383497</td>\n",
       "      <td>NCAQ</td>\n",
       "      <td>3</td>\n",
       "      <td>NCAQ:3</td>\n",
       "      <td>ep copiers unable scan email new canon copiers...</td>\n",
       "    </tr>\n",
       "    <tr>\n",
       "      <th>10</th>\n",
       "      <td>383501</td>\n",
       "      <td>NCAQ</td>\n",
       "      <td>3</td>\n",
       "      <td>NCAQ:3</td>\n",
       "      <td>update need aed aed aed structural drawing aed...</td>\n",
       "    </tr>\n",
       "    <tr>\n",
       "      <th>11</th>\n",
       "      <td>383502</td>\n",
       "      <td>NCAQ</td>\n",
       "      <td>3</td>\n",
       "      <td>NCAQ:3</td>\n",
       "      <td>non acceptance administrative license amendmen...</td>\n",
       "    </tr>\n",
       "    <tr>\n",
       "      <th>12</th>\n",
       "      <td>383503</td>\n",
       "      <td>NCAQ</td>\n",
       "      <td>4</td>\n",
       "      <td>NCAQ:4</td>\n",
       "      <td>rrc trs datum storage card full rrc trs compac...</td>\n",
       "    </tr>\n",
       "    <tr>\n",
       "      <th>13</th>\n",
       "      <td>383504</td>\n",
       "      <td>NCAQ</td>\n",
       "      <td>4</td>\n",
       "      <td>NCAQ:4</td>\n",
       "      <td>gbp asu step not follow contrary gbp asu assig...</td>\n",
       "    </tr>\n",
       "    <tr>\n",
       "      <th>14</th>\n",
       "      <td>383505</td>\n",
       "      <td>CAQ</td>\n",
       "      <td>C</td>\n",
       "      <td>CAQ:C</td>\n",
       "      <td>fcp ground fault installation fcp annunciation...</td>\n",
       "    </tr>\n",
       "  </tbody>\n",
       "</table>\n",
       "</div>"
      ],
      "text/plain": [
       "    AR_NUMBER AR_PRIORITY AR_SEVERITY PRIORITY_SEVERITY  \\\n",
       "0      383472         CAQ           C             CAQ:C   \n",
       "1      383473         CAQ           D             CAQ:D   \n",
       "2      383474         CAQ           D             CAQ:D   \n",
       "3      383476        NCAQ           4            NCAQ:4   \n",
       "4      383477         CAQ           D             CAQ:D   \n",
       "5      383478         CAQ           D             CAQ:D   \n",
       "6      383479        NCAQ           3            NCAQ:3   \n",
       "7      383490         CAQ           D             CAQ:D   \n",
       "8      383491         CAQ           C             CAQ:C   \n",
       "9      383497        NCAQ           3            NCAQ:3   \n",
       "10     383501        NCAQ           3            NCAQ:3   \n",
       "11     383502        NCAQ           3            NCAQ:3   \n",
       "12     383503        NCAQ           4            NCAQ:4   \n",
       "13     383504        NCAQ           4            NCAQ:4   \n",
       "14     383505         CAQ           C             CAQ:C   \n",
       "\n",
       "                                  CONCAT_TEXT_FOR_WKS  \n",
       "0   rcic hpcs low cst level swap fill vent suction...  \n",
       "1   rcic p not start run sop rcic fill direct star...  \n",
       "2   hp drop hpcs suction switchover alarm hp drop ...  \n",
       "3                    bre bre need window evaluate bre  \n",
       "4   receive rod drive control sys inop alarm recei...  \n",
       "5   hpcs suction switchover alarm locked fill vent...  \n",
       "6   cw cta approx overflow operator round note due...  \n",
       "7   security cctv need maintenance security cctv n...  \n",
       "8   sw va change lo without screen anonymous cr de...  \n",
       "9   ep copiers unable scan email new canon copiers...  \n",
       "10  update need aed aed aed structural drawing aed...  \n",
       "11  non acceptance administrative license amendmen...  \n",
       "12  rrc trs datum storage card full rrc trs compac...  \n",
       "13  gbp asu step not follow contrary gbp asu assig...  \n",
       "14  fcp ground fault installation fcp annunciation...  "
      ]
     },
     "execution_count": 3,
     "metadata": {},
     "output_type": "execute_result"
    }
   ],
   "source": [
    "#Loading data from file system\n",
    "#Data source located: https://github.ibm.com/Jewel-Matsch-Rowekamp/Energy-NW\n",
    "data = pd.read_csv(os.environ['DSX_PROJECT_DIR']+'/datasets/energy_nw_clean_dataframe.csv')\n",
    "data.head(15)"
   ]
  },
  {
   "cell_type": "markdown",
   "metadata": {},
   "source": [
    "### Determine Dependent and Independent Variables"
   ]
  },
  {
   "cell_type": "markdown",
   "metadata": {},
   "source": [
    "Split data into X & Y (X=independent, Y=dependent)"
   ]
  },
  {
   "cell_type": "code",
   "execution_count": 4,
   "metadata": {},
   "outputs": [],
   "source": [
    "X_array = data.iloc[:,[0,4]].values\n",
    "Y_array = data.iloc[:,1].values"
   ]
  },
  {
   "cell_type": "markdown",
   "metadata": {},
   "source": [
    "#### Verify Variables <br>\n",
    "* X should contain the independent columns: AR_NUMBER, AR_PRIORITY, CONCAT_TEXT_FOR_WKS. <br>\n",
    "* Y should contain the dependent column: AR_SEVERITY"
   ]
  },
  {
   "cell_type": "code",
   "execution_count": 5,
   "metadata": {},
   "outputs": [
    {
     "data": {
      "text/html": [
       "<div>\n",
       "<style scoped>\n",
       "    .dataframe tbody tr th:only-of-type {\n",
       "        vertical-align: middle;\n",
       "    }\n",
       "\n",
       "    .dataframe tbody tr th {\n",
       "        vertical-align: top;\n",
       "    }\n",
       "\n",
       "    .dataframe thead th {\n",
       "        text-align: right;\n",
       "    }\n",
       "</style>\n",
       "<table border=\"1\" class=\"dataframe\">\n",
       "  <thead>\n",
       "    <tr style=\"text-align: right;\">\n",
       "      <th></th>\n",
       "      <th>AR_NUMBER</th>\n",
       "      <th>CONCAT_TEXT_FOR_WKS</th>\n",
       "    </tr>\n",
       "  </thead>\n",
       "  <tbody>\n",
       "    <tr>\n",
       "      <th>0</th>\n",
       "      <td>383472</td>\n",
       "      <td>rcic hpcs low cst level swap fill vent suction...</td>\n",
       "    </tr>\n",
       "    <tr>\n",
       "      <th>1</th>\n",
       "      <td>383473</td>\n",
       "      <td>rcic p not start run sop rcic fill direct star...</td>\n",
       "    </tr>\n",
       "    <tr>\n",
       "      <th>2</th>\n",
       "      <td>383474</td>\n",
       "      <td>hp drop hpcs suction switchover alarm hp drop ...</td>\n",
       "    </tr>\n",
       "    <tr>\n",
       "      <th>3</th>\n",
       "      <td>383476</td>\n",
       "      <td>bre bre need window evaluate bre</td>\n",
       "    </tr>\n",
       "    <tr>\n",
       "      <th>4</th>\n",
       "      <td>383477</td>\n",
       "      <td>receive rod drive control sys inop alarm recei...</td>\n",
       "    </tr>\n",
       "  </tbody>\n",
       "</table>\n",
       "</div>"
      ],
      "text/plain": [
       "  AR_NUMBER                                CONCAT_TEXT_FOR_WKS\n",
       "0    383472  rcic hpcs low cst level swap fill vent suction...\n",
       "1    383473  rcic p not start run sop rcic fill direct star...\n",
       "2    383474  hp drop hpcs suction switchover alarm hp drop ...\n",
       "3    383476                   bre bre need window evaluate bre\n",
       "4    383477  receive rod drive control sys inop alarm recei..."
      ]
     },
     "execution_count": 5,
     "metadata": {},
     "output_type": "execute_result"
    }
   ],
   "source": [
    "X = pd.DataFrame(X_array, columns=['AR_NUMBER','CONCAT_TEXT_FOR_WKS'])\n",
    "X.head(5)"
   ]
  },
  {
   "cell_type": "code",
   "execution_count": 6,
   "metadata": {},
   "outputs": [
    {
     "data": {
      "text/html": [
       "<div>\n",
       "<style scoped>\n",
       "    .dataframe tbody tr th:only-of-type {\n",
       "        vertical-align: middle;\n",
       "    }\n",
       "\n",
       "    .dataframe tbody tr th {\n",
       "        vertical-align: top;\n",
       "    }\n",
       "\n",
       "    .dataframe thead th {\n",
       "        text-align: right;\n",
       "    }\n",
       "</style>\n",
       "<table border=\"1\" class=\"dataframe\">\n",
       "  <thead>\n",
       "    <tr style=\"text-align: right;\">\n",
       "      <th></th>\n",
       "      <th>AR_PRIORITY</th>\n",
       "    </tr>\n",
       "  </thead>\n",
       "  <tbody>\n",
       "    <tr>\n",
       "      <th>0</th>\n",
       "      <td>CAQ</td>\n",
       "    </tr>\n",
       "    <tr>\n",
       "      <th>1</th>\n",
       "      <td>CAQ</td>\n",
       "    </tr>\n",
       "    <tr>\n",
       "      <th>2</th>\n",
       "      <td>CAQ</td>\n",
       "    </tr>\n",
       "    <tr>\n",
       "      <th>3</th>\n",
       "      <td>NCAQ</td>\n",
       "    </tr>\n",
       "    <tr>\n",
       "      <th>4</th>\n",
       "      <td>CAQ</td>\n",
       "    </tr>\n",
       "  </tbody>\n",
       "</table>\n",
       "</div>"
      ],
      "text/plain": [
       "  AR_PRIORITY\n",
       "0         CAQ\n",
       "1         CAQ\n",
       "2         CAQ\n",
       "3        NCAQ\n",
       "4         CAQ"
      ]
     },
     "execution_count": 6,
     "metadata": {},
     "output_type": "execute_result"
    }
   ],
   "source": [
    "Y = pd.DataFrame(Y_array, columns=['AR_PRIORITY'])\n",
    "Y.head(5)"
   ]
  },
  {
   "cell_type": "markdown",
   "metadata": {},
   "source": [
    "### One Hot Encode Categorical Variables"
   ]
  },
  {
   "cell_type": "markdown",
   "metadata": {},
   "source": [
    "#### Categorical Dependent Column"
   ]
  },
  {
   "cell_type": "code",
   "execution_count": 7,
   "metadata": {},
   "outputs": [],
   "source": [
    "Y_df = pd.get_dummies(data=Y, drop_first=True)"
   ]
  },
  {
   "cell_type": "code",
   "execution_count": 8,
   "metadata": {},
   "outputs": [
    {
     "data": {
      "text/html": [
       "<div>\n",
       "<style scoped>\n",
       "    .dataframe tbody tr th:only-of-type {\n",
       "        vertical-align: middle;\n",
       "    }\n",
       "\n",
       "    .dataframe tbody tr th {\n",
       "        vertical-align: top;\n",
       "    }\n",
       "\n",
       "    .dataframe thead th {\n",
       "        text-align: right;\n",
       "    }\n",
       "</style>\n",
       "<table border=\"1\" class=\"dataframe\">\n",
       "  <thead>\n",
       "    <tr style=\"text-align: right;\">\n",
       "      <th></th>\n",
       "      <th>AR_PRIORITY_NCAQ</th>\n",
       "    </tr>\n",
       "  </thead>\n",
       "  <tbody>\n",
       "    <tr>\n",
       "      <th>0</th>\n",
       "      <td>0</td>\n",
       "    </tr>\n",
       "    <tr>\n",
       "      <th>1</th>\n",
       "      <td>0</td>\n",
       "    </tr>\n",
       "    <tr>\n",
       "      <th>2</th>\n",
       "      <td>0</td>\n",
       "    </tr>\n",
       "    <tr>\n",
       "      <th>3</th>\n",
       "      <td>1</td>\n",
       "    </tr>\n",
       "    <tr>\n",
       "      <th>4</th>\n",
       "      <td>0</td>\n",
       "    </tr>\n",
       "  </tbody>\n",
       "</table>\n",
       "</div>"
      ],
      "text/plain": [
       "   AR_PRIORITY_NCAQ\n",
       "0                 0\n",
       "1                 0\n",
       "2                 0\n",
       "3                 1\n",
       "4                 0"
      ]
     },
     "execution_count": 8,
     "metadata": {},
     "output_type": "execute_result"
    }
   ],
   "source": [
    "Y_df.head(5)"
   ]
  },
  {
   "cell_type": "markdown",
   "metadata": {},
   "source": [
    "### Vectorize the Text Column"
   ]
  },
  {
   "cell_type": "code",
   "execution_count": 66,
   "metadata": {},
   "outputs": [],
   "source": [
    "tfidf = TfidfVectorizer(sublinear_tf=True, min_df=5, norm='l2', encoding='latin-1', ngram_range=(1, 2), stop_words='english')"
   ]
  },
  {
   "cell_type": "code",
   "execution_count": 67,
   "metadata": {},
   "outputs": [
    {
     "data": {
      "text/plain": [
       "(11337, 17880)"
      ]
     },
     "execution_count": 67,
     "metadata": {},
     "output_type": "execute_result"
    }
   ],
   "source": [
    "features = tfidf.fit_transform(X.CONCAT_TEXT_FOR_WKS).toarray()\n",
    "labels = Y\n",
    "features.shape"
   ]
  },
  {
   "cell_type": "code",
   "execution_count": 68,
   "metadata": {},
   "outputs": [
    {
     "data": {
      "text/plain": [
       "array([[0.        , 0.        , 0.        , ..., 0.        , 0.        ,\n",
       "        0.        ],\n",
       "       [0.        , 0.        , 0.        , ..., 0.        , 0.        ,\n",
       "        0.        ],\n",
       "       [0.        , 0.        , 0.        , ..., 0.        , 0.        ,\n",
       "        0.        ],\n",
       "       ...,\n",
       "       [0.        , 0.        , 0.        , ..., 0.        , 0.        ,\n",
       "        0.        ],\n",
       "       [0.37294593, 0.        , 0.        , ..., 0.        , 0.        ,\n",
       "        0.        ],\n",
       "       [0.        , 0.        , 0.        , ..., 0.        , 0.        ,\n",
       "        0.        ]])"
      ]
     },
     "execution_count": 68,
     "metadata": {},
     "output_type": "execute_result"
    }
   ],
   "source": [
    "features"
   ]
  },
  {
   "cell_type": "code",
   "execution_count": 12,
   "metadata": {},
   "outputs": [
    {
     "data": {
      "text/html": [
       "<div>\n",
       "<style scoped>\n",
       "    .dataframe tbody tr th:only-of-type {\n",
       "        vertical-align: middle;\n",
       "    }\n",
       "\n",
       "    .dataframe tbody tr th {\n",
       "        vertical-align: top;\n",
       "    }\n",
       "\n",
       "    .dataframe thead th {\n",
       "        text-align: right;\n",
       "    }\n",
       "</style>\n",
       "<table border=\"1\" class=\"dataframe\">\n",
       "  <thead>\n",
       "    <tr style=\"text-align: right;\">\n",
       "      <th></th>\n",
       "      <th>AR_PRIORITY</th>\n",
       "    </tr>\n",
       "  </thead>\n",
       "  <tbody>\n",
       "    <tr>\n",
       "      <th>0</th>\n",
       "      <td>CAQ</td>\n",
       "    </tr>\n",
       "    <tr>\n",
       "      <th>1</th>\n",
       "      <td>CAQ</td>\n",
       "    </tr>\n",
       "    <tr>\n",
       "      <th>2</th>\n",
       "      <td>CAQ</td>\n",
       "    </tr>\n",
       "    <tr>\n",
       "      <th>3</th>\n",
       "      <td>NCAQ</td>\n",
       "    </tr>\n",
       "    <tr>\n",
       "      <th>4</th>\n",
       "      <td>CAQ</td>\n",
       "    </tr>\n",
       "    <tr>\n",
       "      <th>5</th>\n",
       "      <td>CAQ</td>\n",
       "    </tr>\n",
       "    <tr>\n",
       "      <th>6</th>\n",
       "      <td>NCAQ</td>\n",
       "    </tr>\n",
       "    <tr>\n",
       "      <th>7</th>\n",
       "      <td>CAQ</td>\n",
       "    </tr>\n",
       "    <tr>\n",
       "      <th>8</th>\n",
       "      <td>CAQ</td>\n",
       "    </tr>\n",
       "    <tr>\n",
       "      <th>9</th>\n",
       "      <td>NCAQ</td>\n",
       "    </tr>\n",
       "    <tr>\n",
       "      <th>10</th>\n",
       "      <td>NCAQ</td>\n",
       "    </tr>\n",
       "    <tr>\n",
       "      <th>11</th>\n",
       "      <td>NCAQ</td>\n",
       "    </tr>\n",
       "    <tr>\n",
       "      <th>12</th>\n",
       "      <td>NCAQ</td>\n",
       "    </tr>\n",
       "    <tr>\n",
       "      <th>13</th>\n",
       "      <td>NCAQ</td>\n",
       "    </tr>\n",
       "    <tr>\n",
       "      <th>14</th>\n",
       "      <td>CAQ</td>\n",
       "    </tr>\n",
       "    <tr>\n",
       "      <th>15</th>\n",
       "      <td>NCAQ</td>\n",
       "    </tr>\n",
       "    <tr>\n",
       "      <th>16</th>\n",
       "      <td>NCAQ</td>\n",
       "    </tr>\n",
       "    <tr>\n",
       "      <th>17</th>\n",
       "      <td>NCAQ</td>\n",
       "    </tr>\n",
       "    <tr>\n",
       "      <th>18</th>\n",
       "      <td>NCAQ</td>\n",
       "    </tr>\n",
       "    <tr>\n",
       "      <th>19</th>\n",
       "      <td>NCAQ</td>\n",
       "    </tr>\n",
       "    <tr>\n",
       "      <th>20</th>\n",
       "      <td>NCAQ</td>\n",
       "    </tr>\n",
       "    <tr>\n",
       "      <th>21</th>\n",
       "      <td>NCAQ</td>\n",
       "    </tr>\n",
       "    <tr>\n",
       "      <th>22</th>\n",
       "      <td>NCAQ</td>\n",
       "    </tr>\n",
       "    <tr>\n",
       "      <th>23</th>\n",
       "      <td>NCAQ</td>\n",
       "    </tr>\n",
       "    <tr>\n",
       "      <th>24</th>\n",
       "      <td>CAQ</td>\n",
       "    </tr>\n",
       "    <tr>\n",
       "      <th>25</th>\n",
       "      <td>CAQ</td>\n",
       "    </tr>\n",
       "    <tr>\n",
       "      <th>26</th>\n",
       "      <td>CAQ</td>\n",
       "    </tr>\n",
       "    <tr>\n",
       "      <th>27</th>\n",
       "      <td>NCAQ</td>\n",
       "    </tr>\n",
       "    <tr>\n",
       "      <th>28</th>\n",
       "      <td>NCAQ</td>\n",
       "    </tr>\n",
       "    <tr>\n",
       "      <th>29</th>\n",
       "      <td>CAQ</td>\n",
       "    </tr>\n",
       "    <tr>\n",
       "      <th>...</th>\n",
       "      <td>...</td>\n",
       "    </tr>\n",
       "    <tr>\n",
       "      <th>11307</th>\n",
       "      <td>NCAQ</td>\n",
       "    </tr>\n",
       "    <tr>\n",
       "      <th>11308</th>\n",
       "      <td>NCAQ</td>\n",
       "    </tr>\n",
       "    <tr>\n",
       "      <th>11309</th>\n",
       "      <td>NCAQ</td>\n",
       "    </tr>\n",
       "    <tr>\n",
       "      <th>11310</th>\n",
       "      <td>NCAQ</td>\n",
       "    </tr>\n",
       "    <tr>\n",
       "      <th>11311</th>\n",
       "      <td>NCAQ</td>\n",
       "    </tr>\n",
       "    <tr>\n",
       "      <th>11312</th>\n",
       "      <td>NCAQ</td>\n",
       "    </tr>\n",
       "    <tr>\n",
       "      <th>11313</th>\n",
       "      <td>CAQ</td>\n",
       "    </tr>\n",
       "    <tr>\n",
       "      <th>11314</th>\n",
       "      <td>NCAQ</td>\n",
       "    </tr>\n",
       "    <tr>\n",
       "      <th>11315</th>\n",
       "      <td>CAQ</td>\n",
       "    </tr>\n",
       "    <tr>\n",
       "      <th>11316</th>\n",
       "      <td>NCAQ</td>\n",
       "    </tr>\n",
       "    <tr>\n",
       "      <th>11317</th>\n",
       "      <td>CAQ</td>\n",
       "    </tr>\n",
       "    <tr>\n",
       "      <th>11318</th>\n",
       "      <td>CAQ</td>\n",
       "    </tr>\n",
       "    <tr>\n",
       "      <th>11319</th>\n",
       "      <td>NCAQ</td>\n",
       "    </tr>\n",
       "    <tr>\n",
       "      <th>11320</th>\n",
       "      <td>NCAQ</td>\n",
       "    </tr>\n",
       "    <tr>\n",
       "      <th>11321</th>\n",
       "      <td>NCAQ</td>\n",
       "    </tr>\n",
       "    <tr>\n",
       "      <th>11322</th>\n",
       "      <td>NCAQ</td>\n",
       "    </tr>\n",
       "    <tr>\n",
       "      <th>11323</th>\n",
       "      <td>NCAQ</td>\n",
       "    </tr>\n",
       "    <tr>\n",
       "      <th>11324</th>\n",
       "      <td>NCAQ</td>\n",
       "    </tr>\n",
       "    <tr>\n",
       "      <th>11325</th>\n",
       "      <td>NCAQ</td>\n",
       "    </tr>\n",
       "    <tr>\n",
       "      <th>11326</th>\n",
       "      <td>CAQ</td>\n",
       "    </tr>\n",
       "    <tr>\n",
       "      <th>11327</th>\n",
       "      <td>NCAQ</td>\n",
       "    </tr>\n",
       "    <tr>\n",
       "      <th>11328</th>\n",
       "      <td>CAQ</td>\n",
       "    </tr>\n",
       "    <tr>\n",
       "      <th>11329</th>\n",
       "      <td>NCAQ</td>\n",
       "    </tr>\n",
       "    <tr>\n",
       "      <th>11330</th>\n",
       "      <td>NCAQ</td>\n",
       "    </tr>\n",
       "    <tr>\n",
       "      <th>11331</th>\n",
       "      <td>CAQ</td>\n",
       "    </tr>\n",
       "    <tr>\n",
       "      <th>11332</th>\n",
       "      <td>NCAQ</td>\n",
       "    </tr>\n",
       "    <tr>\n",
       "      <th>11333</th>\n",
       "      <td>NCAQ</td>\n",
       "    </tr>\n",
       "    <tr>\n",
       "      <th>11334</th>\n",
       "      <td>NCAQ</td>\n",
       "    </tr>\n",
       "    <tr>\n",
       "      <th>11335</th>\n",
       "      <td>CAQ</td>\n",
       "    </tr>\n",
       "    <tr>\n",
       "      <th>11336</th>\n",
       "      <td>NCAQ</td>\n",
       "    </tr>\n",
       "  </tbody>\n",
       "</table>\n",
       "<p>11337 rows × 1 columns</p>\n",
       "</div>"
      ],
      "text/plain": [
       "      AR_PRIORITY\n",
       "0             CAQ\n",
       "1             CAQ\n",
       "2             CAQ\n",
       "3            NCAQ\n",
       "4             CAQ\n",
       "5             CAQ\n",
       "6            NCAQ\n",
       "7             CAQ\n",
       "8             CAQ\n",
       "9            NCAQ\n",
       "10           NCAQ\n",
       "11           NCAQ\n",
       "12           NCAQ\n",
       "13           NCAQ\n",
       "14            CAQ\n",
       "15           NCAQ\n",
       "16           NCAQ\n",
       "17           NCAQ\n",
       "18           NCAQ\n",
       "19           NCAQ\n",
       "20           NCAQ\n",
       "21           NCAQ\n",
       "22           NCAQ\n",
       "23           NCAQ\n",
       "24            CAQ\n",
       "25            CAQ\n",
       "26            CAQ\n",
       "27           NCAQ\n",
       "28           NCAQ\n",
       "29            CAQ\n",
       "...           ...\n",
       "11307        NCAQ\n",
       "11308        NCAQ\n",
       "11309        NCAQ\n",
       "11310        NCAQ\n",
       "11311        NCAQ\n",
       "11312        NCAQ\n",
       "11313         CAQ\n",
       "11314        NCAQ\n",
       "11315         CAQ\n",
       "11316        NCAQ\n",
       "11317         CAQ\n",
       "11318         CAQ\n",
       "11319        NCAQ\n",
       "11320        NCAQ\n",
       "11321        NCAQ\n",
       "11322        NCAQ\n",
       "11323        NCAQ\n",
       "11324        NCAQ\n",
       "11325        NCAQ\n",
       "11326         CAQ\n",
       "11327        NCAQ\n",
       "11328         CAQ\n",
       "11329        NCAQ\n",
       "11330        NCAQ\n",
       "11331         CAQ\n",
       "11332        NCAQ\n",
       "11333        NCAQ\n",
       "11334        NCAQ\n",
       "11335         CAQ\n",
       "11336        NCAQ\n",
       "\n",
       "[11337 rows x 1 columns]"
      ]
     },
     "execution_count": 12,
     "metadata": {},
     "output_type": "execute_result"
    }
   ],
   "source": [
    "labels"
   ]
  },
  {
   "cell_type": "markdown",
   "metadata": {},
   "source": [
    "#### Divide Data into Train and Test Sets"
   ]
  },
  {
   "cell_type": "code",
   "execution_count": 60,
   "metadata": {},
   "outputs": [],
   "source": [
    "X_train, X_test, Y_train, Y_test=train_test_split(features_count,Y,test_size=0.2,random_state=0)"
   ]
  },
  {
   "cell_type": "code",
   "execution_count": 87,
   "metadata": {},
   "outputs": [],
   "source": [
    "X_train, X_test, Y_train_SVM, Y_test_SVM=train_test_split(features_count,Y_df,test_size=0.2,random_state=0)"
   ]
  },
  {
   "cell_type": "code",
   "execution_count": 61,
   "metadata": {},
   "outputs": [
    {
     "name": "stdout",
     "output_type": "stream",
     "text": [
      "(9069, 18866) (9069, 1)\n",
      "(2268, 18866) (2268, 1)\n"
     ]
    }
   ],
   "source": [
    "print(X_train.shape,Y_train.shape)\n",
    "print(X_test.shape,Y_test.shape)"
   ]
  },
  {
   "cell_type": "markdown",
   "metadata": {},
   "source": [
    "## Classifiers"
   ]
  },
  {
   "cell_type": "markdown",
   "metadata": {},
   "source": [
    "### Logistic Regression"
   ]
  },
  {
   "cell_type": "code",
   "execution_count": 62,
   "metadata": {},
   "outputs": [
    {
     "name": "stdout",
     "output_type": "stream",
     "text": [
      "Mean score accuracy:  0.8241290515345197\n",
      "95% confidence interval:  0.013566655746959975\n"
     ]
    }
   ],
   "source": [
    "classifierObj_LR = LogisticRegression()\n",
    "classifierObj_LR.fit(X_train, Y_train)\n",
    "\n",
    "modelAccuracies_LR = cross_val_score(estimator=classifierObj_LR, X=X_train, y=Y_train.values.ravel(),cv=10)\n",
    "print(\"Mean score accuracy: \", modelAccuracies_LR.mean())\n",
    "print(\"95% confidence interval: \", modelAccuracies_LR.std())"
   ]
  },
  {
   "cell_type": "code",
   "execution_count": 54,
   "metadata": {},
   "outputs": [
    {
     "name": "stdout",
     "output_type": "stream",
     "text": [
      "The overall accuracy of the model: 0.83 (+/- 0.02)\n"
     ]
    }
   ],
   "source": [
    "print(\"The overall accuracy of the model: %0.2f (+/- %0.2f)\" % (modelAccuracies_LR.mean(), modelAccuracies_LR.std() * 2))"
   ]
  },
  {
   "cell_type": "code",
   "execution_count": 55,
   "metadata": {},
   "outputs": [],
   "source": [
    "y_pred_LR = classifierObj_LR.predict(X_test)"
   ]
  },
  {
   "cell_type": "code",
   "execution_count": 56,
   "metadata": {},
   "outputs": [
    {
     "name": "stdout",
     "output_type": "stream",
     "text": [
      "              precision    recall  f1-score   support\n",
      "\n",
      "         CAQ       0.91      0.47      0.62       642\n",
      "        NCAQ       0.82      0.98      0.90      1626\n",
      "\n",
      "    accuracy                           0.84      2268\n",
      "   macro avg       0.87      0.72      0.76      2268\n",
      "weighted avg       0.85      0.84      0.82      2268\n",
      "\n"
     ]
    }
   ],
   "source": [
    "print(metrics.classification_report(Y_test, y_pred_LR))"
   ]
  },
  {
   "cell_type": "code",
   "execution_count": 52,
   "metadata": {},
   "outputs": [
    {
     "name": "stdout",
     "output_type": "stream",
     "text": [
      "This is the confusion matrix: \n",
      "[[ 300  342]\n",
      " [  30 1596]]\n"
     ]
    }
   ],
   "source": [
    "cm_LR = confusion_matrix(Y_test, y_pred_LR)\n",
    "print(\"This is the confusion matrix: \")\n",
    "print(cm_LR)"
   ]
  },
  {
   "cell_type": "markdown",
   "metadata": {},
   "source": [
    "### Support Vector Machine"
   ]
  },
  {
   "cell_type": "code",
   "execution_count": 81,
   "metadata": {},
   "outputs": [
    {
     "name": "stdout",
     "output_type": "stream",
     "text": [
      "{'kernel': 'linear'}\n",
      "0.7900540302128128\n"
     ]
    }
   ],
   "source": [
    "classifier_Obj_SVM = SVC()\n",
    "\n",
    "grid_params = {\n",
    "    'kernel':['linear','poly','rbf','sigmoid']\n",
    "}\n",
    "gd_sr_SVM=GridSearchCV(estimator=classifier_Obj_SVM, param_grid=grid_params, scoring='accuracy', cv=5, n_jobs=-1)\n",
    "gd_sr_SVM.fit(X_train, Y_train)\n",
    "print(gd_sr_SVM.best_params_)\n",
    "print(gd_sr_SVM.best_score_)"
   ]
  },
  {
   "cell_type": "code",
   "execution_count": 89,
   "metadata": {},
   "outputs": [
    {
     "name": "stdout",
     "output_type": "stream",
     "text": [
      "Mean score accuracy:  0.7931488542278783\n",
      "95% confidence interval:  0.012643571716514392\n"
     ]
    }
   ],
   "source": [
    "classifier_Obj_SVM_linear = SVC(kernel='linear')\n",
    "classifier_Obj_SVM_linear.fit(X_train, Y_train)\n",
    "\n",
    "modelAccuracies_SVM = cross_val_score(estimator=classifier_Obj_SVM_linear, X=X_train, y=Y_train,cv=10)\n",
    "print(\"Mean score accuracy: \", modelAccuracies_SVM.mean())\n",
    "print(\"95% confidence interval: \", modelAccuracies_SVM.std())"
   ]
  },
  {
   "cell_type": "code",
   "execution_count": 90,
   "metadata": {},
   "outputs": [
    {
     "name": "stdout",
     "output_type": "stream",
     "text": [
      "The overall accuracy of the model: 0.79 (+/- 0.03)\n"
     ]
    }
   ],
   "source": [
    "print(\"The overall accuracy of the model: %0.2f (+/- %0.2f)\" % (modelAccuracies_SVM.mean(), modelAccuracies_SVM.std() * 2))"
   ]
  },
  {
   "cell_type": "code",
   "execution_count": 91,
   "metadata": {},
   "outputs": [],
   "source": [
    "y_pred_SVM = classifier_Obj_SVM_linear.predict(X_test)"
   ]
  },
  {
   "cell_type": "code",
   "execution_count": 92,
   "metadata": {},
   "outputs": [
    {
     "name": "stdout",
     "output_type": "stream",
     "text": [
      "              precision    recall  f1-score   support\n",
      "\n",
      "         CAQ       0.65      0.65      0.65       642\n",
      "        NCAQ       0.86      0.86      0.86      1626\n",
      "\n",
      "    accuracy                           0.80      2268\n",
      "   macro avg       0.75      0.76      0.75      2268\n",
      "weighted avg       0.80      0.80      0.80      2268\n",
      "\n"
     ]
    }
   ],
   "source": [
    "print(metrics.classification_report(Y_test, y_pred_SVM))"
   ]
  },
  {
   "cell_type": "code",
   "execution_count": 93,
   "metadata": {},
   "outputs": [
    {
     "name": "stdout",
     "output_type": "stream",
     "text": [
      "This is the confusion matrix: \n",
      "[[ 418  224]\n",
      " [ 228 1398]]\n"
     ]
    }
   ],
   "source": [
    "cm_SVM = confusion_matrix(Y_test, y_pred_SVM)\n",
    "print(\"This is the confusion matrix: \")\n",
    "print(cm_SVM)"
   ]
  },
  {
   "cell_type": "markdown",
   "metadata": {},
   "source": [
    "### Naive Bayes"
   ]
  },
  {
   "cell_type": "code",
   "execution_count": 76,
   "metadata": {},
   "outputs": [
    {
     "name": "stdout",
     "output_type": "stream",
     "text": [
      "Mean score accuracy:  0.8043891424939671\n",
      "95% confidence interval:  0.007879743300861256\n"
     ]
    }
   ],
   "source": [
    "classifierObj_NB = BernoulliNB()\n",
    "classifierObj_NB.fit(X_train, Y_train)\n",
    "\n",
    "modelAccuracies_NB = cross_val_score(estimator=classifierObj_NB, X=X_train, y=Y_train.values.ravel(),cv=10)\n",
    "print(\"Mean score accuracy: \", modelAccuracies_NB.mean())\n",
    "print(\"95% confidence interval: \", modelAccuracies_NB.std())"
   ]
  },
  {
   "cell_type": "code",
   "execution_count": 77,
   "metadata": {},
   "outputs": [
    {
     "name": "stdout",
     "output_type": "stream",
     "text": [
      "The overall accuracy of the model: 0.80 (+/- 0.02)\n"
     ]
    }
   ],
   "source": [
    "print(\"The overall accuracy of the model: %0.2f (+/- %0.2f)\" % (modelAccuracies_NB.mean(), modelAccuracies_NB.std() * 2))"
   ]
  },
  {
   "cell_type": "code",
   "execution_count": 78,
   "metadata": {},
   "outputs": [],
   "source": [
    "y_pred_NB = classifierObj_NB.predict(X_test)"
   ]
  },
  {
   "cell_type": "code",
   "execution_count": 79,
   "metadata": {},
   "outputs": [
    {
     "name": "stdout",
     "output_type": "stream",
     "text": [
      "              precision    recall  f1-score   support\n",
      "\n",
      "         CAQ       0.74      0.52      0.61       642\n",
      "        NCAQ       0.83      0.93      0.88      1626\n",
      "\n",
      "    accuracy                           0.81      2268\n",
      "   macro avg       0.78      0.72      0.74      2268\n",
      "weighted avg       0.80      0.81      0.80      2268\n",
      "\n"
     ]
    }
   ],
   "source": [
    "print(metrics.classification_report(Y_test, y_pred_NB))"
   ]
  },
  {
   "cell_type": "code",
   "execution_count": 80,
   "metadata": {},
   "outputs": [
    {
     "name": "stdout",
     "output_type": "stream",
     "text": [
      "This is the confusion matrix: \n",
      "[[ 335  307]\n",
      " [ 120 1506]]\n"
     ]
    }
   ],
   "source": [
    "cm_NB = confusion_matrix(Y_test, y_pred_NB)\n",
    "print(\"This is the confusion matrix: \")\n",
    "print(cm_NB)"
   ]
  },
  {
   "cell_type": "markdown",
   "metadata": {},
   "source": [
    "### Random Forest"
   ]
  },
  {
   "cell_type": "code",
   "execution_count": 82,
   "metadata": {},
   "outputs": [
    {
     "name": "stdout",
     "output_type": "stream",
     "text": [
      "{'bootstrap': False, 'criterion': 'entropy', 'n_estimators': 40}\n",
      "0.8212592347557613\n"
     ]
    }
   ],
   "source": [
    "classifier_Obj_RF = RandomForestClassifier()\n",
    "\n",
    "grid_param = {\n",
    "    'n_estimators':[10,15,20,25,30,40,50],\n",
    "    'criterion':['gini','entropy'],\n",
    "    'bootstrap':[True, False]\n",
    "}\n",
    "\n",
    "gd_sr_RF = GridSearchCV(estimator=classifier_Obj_RF, param_grid=grid_param,scoring='accuracy',cv=5,n_jobs=-1)\n",
    "gd_sr_RF.fit(X_train, Y_train)\n",
    "print(gd_sr_RF.best_params_)\n",
    "print(gd_sr_RF.best_score_)"
   ]
  },
  {
   "cell_type": "code",
   "execution_count": 103,
   "metadata": {},
   "outputs": [
    {
     "name": "stdout",
     "output_type": "stream",
     "text": [
      "Mean score accuracy:  0.8215918810363932\n",
      "95% confidence interval:  0.010162333405805364\n"
     ]
    }
   ],
   "source": [
    "classifier_Obj_Randfor = RandomForestClassifier(bootstrap=False, criterion='entropy', n_estimators=40)\n",
    "classifier_Obj_Randfor.fit(X_train, Y_train)\n",
    "\n",
    "modelAccuracies_RF = cross_val_score(estimator=classifier_Obj_Randfor, X=X_train, y=Y_train.values.ravel(),cv=10)\n",
    "print(\"Mean score accuracy: \", modelAccuracies_RF.mean())\n",
    "print(\"95% confidence interval: \", modelAccuracies_RF.std())"
   ]
  },
  {
   "cell_type": "code",
   "execution_count": 104,
   "metadata": {},
   "outputs": [
    {
     "name": "stdout",
     "output_type": "stream",
     "text": [
      "The overall accuracy of the model: 0.82 (+/- 0.02)\n"
     ]
    }
   ],
   "source": [
    "print(\"The overall accuracy of the model: %0.2f (+/- %0.2f)\" % (modelAccuracies_RF.mean(), modelAccuracies_RF.std() * 2))"
   ]
  },
  {
   "cell_type": "code",
   "execution_count": 105,
   "metadata": {},
   "outputs": [],
   "source": [
    "y_pred_RF = classifier_Obj_Randfor.predict(X_test)"
   ]
  },
  {
   "cell_type": "code",
   "execution_count": 106,
   "metadata": {},
   "outputs": [
    {
     "name": "stdout",
     "output_type": "stream",
     "text": [
      "              precision    recall  f1-score   support\n",
      "\n",
      "         CAQ       0.87      0.45      0.59       642\n",
      "        NCAQ       0.82      0.97      0.89      1626\n",
      "\n",
      "    accuracy                           0.82      2268\n",
      "   macro avg       0.85      0.71      0.74      2268\n",
      "weighted avg       0.83      0.82      0.80      2268\n",
      "\n"
     ]
    }
   ],
   "source": [
    "print(metrics.classification_report(Y_test, y_pred_RF))"
   ]
  },
  {
   "cell_type": "code",
   "execution_count": 107,
   "metadata": {},
   "outputs": [
    {
     "name": "stdout",
     "output_type": "stream",
     "text": [
      "This is the confusion matrix: \n",
      "[[ 286  356]\n",
      " [  41 1585]]\n"
     ]
    }
   ],
   "source": [
    "cm_RF = confusion_matrix(Y_test, y_pred_RF)\n",
    "print(\"This is the confusion matrix: \")\n",
    "print(cm_RF)"
   ]
  },
  {
   "cell_type": "code",
   "execution_count": null,
   "metadata": {},
   "outputs": [],
   "source": []
  }
 ],
 "metadata": {
  "kernelspec": {
   "display_name": "Python3.6",
   "language": "python",
   "name": "python3"
  },
  "language_info": {
   "codemirror_mode": {
    "name": "ipython",
    "version": 3
   },
   "file_extension": ".py",
   "mimetype": "text/x-python",
   "name": "python",
   "nbconvert_exporter": "python",
   "pygments_lexer": "ipython3",
   "version": "3.6.7"
  }
 },
 "nbformat": 4,
 "nbformat_minor": 2
}
