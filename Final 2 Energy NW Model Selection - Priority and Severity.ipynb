{
 "cells": [
  {
   "cell_type": "markdown",
   "metadata": {},
   "source": [
    "## Load Libraries and Packages"
   ]
  },
  {
   "cell_type": "code",
   "execution_count": 28,
   "metadata": {},
   "outputs": [],
   "source": [
    "#Standard Libraries\n",
    "import numpy as np\n",
    "import pandas as pd\n",
    "import os\n",
    "import time\n",
    "\n",
    "#Data Preprocessing\n",
    "from sklearn.model_selection import train_test_split\n",
    "\n",
    "#Vectorizers\n",
    "from sklearn.feature_extraction.text import CountVectorizer\n",
    "from sklearn.feature_extraction.text import TfidfTransformer, TfidfVectorizer\n",
    "\n",
    "#Models\n",
    "from sklearn.naive_bayes import BernoulliNB\n",
    "from sklearn.linear_model import LogisticRegression\n",
    "from sklearn.ensemble import RandomForestClassifier\n",
    "from sklearn.linear_model import SGDClassifier\n",
    "\n",
    "#Model Evaluation\n",
    "from sklearn.model_selection import cross_val_score, GridSearchCV\n",
    "from sklearn.metrics import confusion_matrix\n",
    "from sklearn.metrics import accuracy_score\n",
    "from sklearn import metrics\n",
    "\n",
    "import warnings\n",
    "warnings.filterwarnings(\"ignore\")"
   ]
  },
  {
   "cell_type": "markdown",
   "metadata": {},
   "source": [
    "## Load Data"
   ]
  },
  {
   "cell_type": "code",
   "execution_count": 3,
   "metadata": {},
   "outputs": [],
   "source": [
    "#Loading data from file system\n",
    "#Data source located: https://github.ibm.com/Jewel-Matsch-Rowekamp/Energy-NW\n",
    "data = pd.read_csv(os.environ['DSX_PROJECT_DIR']+'/datasets/energy_nw_clean_dataframe.csv')"
   ]
  },
  {
   "cell_type": "code",
   "execution_count": 4,
   "metadata": {},
   "outputs": [
    {
     "data": {
      "text/html": [
       "<div>\n",
       "<style scoped>\n",
       "    .dataframe tbody tr th:only-of-type {\n",
       "        vertical-align: middle;\n",
       "    }\n",
       "\n",
       "    .dataframe tbody tr th {\n",
       "        vertical-align: top;\n",
       "    }\n",
       "\n",
       "    .dataframe thead th {\n",
       "        text-align: right;\n",
       "    }\n",
       "</style>\n",
       "<table border=\"1\" class=\"dataframe\">\n",
       "  <thead>\n",
       "    <tr style=\"text-align: right;\">\n",
       "      <th></th>\n",
       "      <th>AR_NUMBER</th>\n",
       "      <th>AR_PRIORITY</th>\n",
       "      <th>AR_SEVERITY</th>\n",
       "      <th>PRIORITY_SEVERITY</th>\n",
       "      <th>CONCAT_TEXT_FOR_WKS</th>\n",
       "    </tr>\n",
       "  </thead>\n",
       "  <tbody>\n",
       "    <tr>\n",
       "      <th>0</th>\n",
       "      <td>383472</td>\n",
       "      <td>CAQ</td>\n",
       "      <td>C</td>\n",
       "      <td>CAQ:C</td>\n",
       "      <td>rcic hpcs low cst level swap fill vent suction...</td>\n",
       "    </tr>\n",
       "    <tr>\n",
       "      <th>1</th>\n",
       "      <td>383473</td>\n",
       "      <td>CAQ</td>\n",
       "      <td>D</td>\n",
       "      <td>CAQ:D</td>\n",
       "      <td>rcic p not start run sop rcic fill direct star...</td>\n",
       "    </tr>\n",
       "    <tr>\n",
       "      <th>2</th>\n",
       "      <td>383474</td>\n",
       "      <td>CAQ</td>\n",
       "      <td>D</td>\n",
       "      <td>CAQ:D</td>\n",
       "      <td>hp drop hpcs suction switchover alarm hp drop ...</td>\n",
       "    </tr>\n",
       "    <tr>\n",
       "      <th>3</th>\n",
       "      <td>383476</td>\n",
       "      <td>NCAQ</td>\n",
       "      <td>4</td>\n",
       "      <td>NCAQ:4</td>\n",
       "      <td>bre bre need window evaluate bre</td>\n",
       "    </tr>\n",
       "    <tr>\n",
       "      <th>4</th>\n",
       "      <td>383477</td>\n",
       "      <td>CAQ</td>\n",
       "      <td>D</td>\n",
       "      <td>CAQ:D</td>\n",
       "      <td>receive rod drive control sys inop alarm recei...</td>\n",
       "    </tr>\n",
       "  </tbody>\n",
       "</table>\n",
       "</div>"
      ],
      "text/plain": [
       "   AR_NUMBER AR_PRIORITY AR_SEVERITY PRIORITY_SEVERITY  \\\n",
       "0     383472         CAQ           C             CAQ:C   \n",
       "1     383473         CAQ           D             CAQ:D   \n",
       "2     383474         CAQ           D             CAQ:D   \n",
       "3     383476        NCAQ           4            NCAQ:4   \n",
       "4     383477         CAQ           D             CAQ:D   \n",
       "\n",
       "                                 CONCAT_TEXT_FOR_WKS  \n",
       "0  rcic hpcs low cst level swap fill vent suction...  \n",
       "1  rcic p not start run sop rcic fill direct star...  \n",
       "2  hp drop hpcs suction switchover alarm hp drop ...  \n",
       "3                   bre bre need window evaluate bre  \n",
       "4  receive rod drive control sys inop alarm recei...  "
      ]
     },
     "execution_count": 4,
     "metadata": {},
     "output_type": "execute_result"
    }
   ],
   "source": [
    "data.head(5)"
   ]
  },
  {
   "cell_type": "markdown",
   "metadata": {},
   "source": [
    "## Select the Independent and Dependent Variables"
   ]
  },
  {
   "cell_type": "code",
   "execution_count": 5,
   "metadata": {},
   "outputs": [],
   "source": [
    "X_array = data.iloc[:,[0,4]].values\n",
    "Y_array = data.iloc[:,3].values"
   ]
  },
  {
   "cell_type": "code",
   "execution_count": 6,
   "metadata": {},
   "outputs": [
    {
     "data": {
      "text/html": [
       "<div>\n",
       "<style scoped>\n",
       "    .dataframe tbody tr th:only-of-type {\n",
       "        vertical-align: middle;\n",
       "    }\n",
       "\n",
       "    .dataframe tbody tr th {\n",
       "        vertical-align: top;\n",
       "    }\n",
       "\n",
       "    .dataframe thead th {\n",
       "        text-align: right;\n",
       "    }\n",
       "</style>\n",
       "<table border=\"1\" class=\"dataframe\">\n",
       "  <thead>\n",
       "    <tr style=\"text-align: right;\">\n",
       "      <th></th>\n",
       "      <th>AR_NUMBER</th>\n",
       "      <th>CONCAT_TEXT_FOR_WKS</th>\n",
       "    </tr>\n",
       "  </thead>\n",
       "  <tbody>\n",
       "    <tr>\n",
       "      <th>0</th>\n",
       "      <td>383472</td>\n",
       "      <td>rcic hpcs low cst level swap fill vent suction...</td>\n",
       "    </tr>\n",
       "    <tr>\n",
       "      <th>1</th>\n",
       "      <td>383473</td>\n",
       "      <td>rcic p not start run sop rcic fill direct star...</td>\n",
       "    </tr>\n",
       "    <tr>\n",
       "      <th>2</th>\n",
       "      <td>383474</td>\n",
       "      <td>hp drop hpcs suction switchover alarm hp drop ...</td>\n",
       "    </tr>\n",
       "    <tr>\n",
       "      <th>3</th>\n",
       "      <td>383476</td>\n",
       "      <td>bre bre need window evaluate bre</td>\n",
       "    </tr>\n",
       "    <tr>\n",
       "      <th>4</th>\n",
       "      <td>383477</td>\n",
       "      <td>receive rod drive control sys inop alarm recei...</td>\n",
       "    </tr>\n",
       "  </tbody>\n",
       "</table>\n",
       "</div>"
      ],
      "text/plain": [
       "  AR_NUMBER                                CONCAT_TEXT_FOR_WKS\n",
       "0    383472  rcic hpcs low cst level swap fill vent suction...\n",
       "1    383473  rcic p not start run sop rcic fill direct star...\n",
       "2    383474  hp drop hpcs suction switchover alarm hp drop ...\n",
       "3    383476                   bre bre need window evaluate bre\n",
       "4    383477  receive rod drive control sys inop alarm recei..."
      ]
     },
     "execution_count": 6,
     "metadata": {},
     "output_type": "execute_result"
    }
   ],
   "source": [
    "X = pd.DataFrame(X_array, columns=['AR_NUMBER','CONCAT_TEXT_FOR_WKS'])\n",
    "X.head(5)"
   ]
  },
  {
   "cell_type": "code",
   "execution_count": 7,
   "metadata": {},
   "outputs": [
    {
     "data": {
      "text/html": [
       "<div>\n",
       "<style scoped>\n",
       "    .dataframe tbody tr th:only-of-type {\n",
       "        vertical-align: middle;\n",
       "    }\n",
       "\n",
       "    .dataframe tbody tr th {\n",
       "        vertical-align: top;\n",
       "    }\n",
       "\n",
       "    .dataframe thead th {\n",
       "        text-align: right;\n",
       "    }\n",
       "</style>\n",
       "<table border=\"1\" class=\"dataframe\">\n",
       "  <thead>\n",
       "    <tr style=\"text-align: right;\">\n",
       "      <th></th>\n",
       "      <th>PRIORITY_SEVERITY</th>\n",
       "    </tr>\n",
       "  </thead>\n",
       "  <tbody>\n",
       "    <tr>\n",
       "      <th>0</th>\n",
       "      <td>CAQ:C</td>\n",
       "    </tr>\n",
       "    <tr>\n",
       "      <th>1</th>\n",
       "      <td>CAQ:D</td>\n",
       "    </tr>\n",
       "    <tr>\n",
       "      <th>2</th>\n",
       "      <td>CAQ:D</td>\n",
       "    </tr>\n",
       "    <tr>\n",
       "      <th>3</th>\n",
       "      <td>NCAQ:4</td>\n",
       "    </tr>\n",
       "    <tr>\n",
       "      <th>4</th>\n",
       "      <td>CAQ:D</td>\n",
       "    </tr>\n",
       "  </tbody>\n",
       "</table>\n",
       "</div>"
      ],
      "text/plain": [
       "  PRIORITY_SEVERITY\n",
       "0             CAQ:C\n",
       "1             CAQ:D\n",
       "2             CAQ:D\n",
       "3            NCAQ:4\n",
       "4             CAQ:D"
      ]
     },
     "execution_count": 7,
     "metadata": {},
     "output_type": "execute_result"
    }
   ],
   "source": [
    "Y = pd.DataFrame(Y_array, columns=['PRIORITY_SEVERITY'])\n",
    "Y.head(5)"
   ]
  },
  {
   "cell_type": "markdown",
   "metadata": {},
   "source": [
    "## Vectorize the Text Column"
   ]
  },
  {
   "cell_type": "code",
   "execution_count": 8,
   "metadata": {},
   "outputs": [],
   "source": [
    "tfidf = TfidfVectorizer(sublinear_tf=True, min_df=5, norm='l2', encoding='latin-1', ngram_range=(1, 2), stop_words='english')"
   ]
  },
  {
   "cell_type": "code",
   "execution_count": 9,
   "metadata": {},
   "outputs": [
    {
     "data": {
      "text/plain": [
       "(11337, 17880)"
      ]
     },
     "execution_count": 9,
     "metadata": {},
     "output_type": "execute_result"
    }
   ],
   "source": [
    "features = tfidf.fit_transform(X.CONCAT_TEXT_FOR_WKS).toarray()\n",
    "labels = Y\n",
    "features.shape"
   ]
  },
  {
   "cell_type": "markdown",
   "metadata": {},
   "source": [
    "## Divide the Data into Train and Test"
   ]
  },
  {
   "cell_type": "code",
   "execution_count": 10,
   "metadata": {},
   "outputs": [],
   "source": [
    "X_train, X_test, Y_train, Y_test=train_test_split(features,Y,test_size=0.2,random_state=0)"
   ]
  },
  {
   "cell_type": "code",
   "execution_count": 11,
   "metadata": {},
   "outputs": [
    {
     "name": "stdout",
     "output_type": "stream",
     "text": [
      "(9069, 17880) (9069, 1)\n",
      "(2268, 17880) (2268, 1)\n"
     ]
    }
   ],
   "source": [
    "print(X_train.shape,Y_train.shape)\n",
    "print(X_test.shape,Y_test.shape)"
   ]
  },
  {
   "cell_type": "markdown",
   "metadata": {},
   "source": [
    "### Logistic Regression"
   ]
  },
  {
   "cell_type": "code",
   "execution_count": 12,
   "metadata": {},
   "outputs": [
    {
     "name": "stdout",
     "output_type": "stream",
     "text": [
      "Mean score accuracy:  0.6877266704055051\n",
      "95% confidence interval:  0.01278131435769145\n"
     ]
    }
   ],
   "source": [
    "classifier_Obj_LR = LogisticRegression()\n",
    "classifier_Obj_LR.fit(X_train, Y_train)\n",
    "\n",
    "modelAccuracies_LR = cross_val_score(estimator=classifier_Obj_LR, X=X_train, y=Y_train.values.ravel(),cv=10)\n",
    "print(\"Mean score accuracy: \", modelAccuracies_LR.mean())\n",
    "print(\"95% confidence interval: \", modelAccuracies_LR.std())"
   ]
  },
  {
   "cell_type": "code",
   "execution_count": 16,
   "metadata": {},
   "outputs": [
    {
     "name": "stdout",
     "output_type": "stream",
     "text": [
      "The overall accuracy of the model: 0.69 (+/- 0.03)\n"
     ]
    }
   ],
   "source": [
    "print(\"The overall accuracy of the model: %0.2f (+/- %0.2f)\" % (modelAccuracies_LR.mean(), modelAccuracies_LR.std() * 2))"
   ]
  },
  {
   "cell_type": "code",
   "execution_count": 17,
   "metadata": {},
   "outputs": [],
   "source": [
    "y_pred_LR = classifier_Obj_LR.predict(X_test)"
   ]
  },
  {
   "cell_type": "code",
   "execution_count": 18,
   "metadata": {},
   "outputs": [
    {
     "name": "stdout",
     "output_type": "stream",
     "text": [
      "              precision    recall  f1-score   support\n",
      "\n",
      "       CAQ:A       0.00      0.00      0.00         1\n",
      "       CAQ:B       0.00      0.00      0.00        13\n",
      "       CAQ:C       0.66      0.17      0.27       197\n",
      "       CAQ:D       0.82      0.48      0.61       431\n",
      "      NCAQ:2       0.00      0.00      0.00         4\n",
      "      NCAQ:3       0.69      0.75      0.72       744\n",
      "      NCAQ:4       0.66      0.86      0.74       878\n",
      "\n",
      "    accuracy                           0.69      2268\n",
      "   macro avg       0.40      0.32      0.33      2268\n",
      "weighted avg       0.69      0.69      0.66      2268\n",
      "\n"
     ]
    }
   ],
   "source": [
    "print(metrics.classification_report(Y_test, y_pred_LR))"
   ]
  },
  {
   "cell_type": "code",
   "execution_count": 19,
   "metadata": {},
   "outputs": [
    {
     "name": "stdout",
     "output_type": "stream",
     "text": [
      "This is the confusion matrix: \n",
      "[[  0   0   0   0   0   0   1]\n",
      " [  0   0   3   2   0   6   2]\n",
      " [  0   0  33  28   0  99  37]\n",
      " [  0   0   8 208   0  36 179]\n",
      " [  0   0   0   0   0   4   0]\n",
      " [  0   0   5   4   0 561 174]\n",
      " [  0   0   1  13   0 112 752]]\n"
     ]
    }
   ],
   "source": [
    "cm_LR = confusion_matrix(Y_test, y_pred_LR)\n",
    "print(\"This is the confusion matrix: \")\n",
    "print(cm_LR)"
   ]
  },
  {
   "cell_type": "markdown",
   "metadata": {},
   "source": [
    "### Naive Bayes"
   ]
  },
  {
   "cell_type": "code",
   "execution_count": 13,
   "metadata": {},
   "outputs": [
    {
     "name": "stdout",
     "output_type": "stream",
     "text": [
      "Mean score accuracy:  0.6543116383706611\n",
      "95% confidence interval:  0.013619686904286329\n"
     ]
    }
   ],
   "source": [
    "classifierObj_NB = BernoulliNB()\n",
    "classifierObj_NB.fit(X_train, Y_train)\n",
    "\n",
    "modelAccuracies_NB = cross_val_score(estimator=classifierObj_NB, X=X_train, y=Y_train.values.ravel(),cv=10)\n",
    "print(\"Mean score accuracy: \", modelAccuracies_NB.mean())\n",
    "print(\"95% confidence interval: \", modelAccuracies_NB.std())"
   ]
  },
  {
   "cell_type": "code",
   "execution_count": 20,
   "metadata": {},
   "outputs": [
    {
     "name": "stdout",
     "output_type": "stream",
     "text": [
      "The overall accuracy of the model: 0.65 (+/- 0.03)\n"
     ]
    }
   ],
   "source": [
    "print(\"The overall accuracy of the model: %0.2f (+/- %0.2f)\" % (modelAccuracies_NB.mean(), modelAccuracies_NB.std() * 2))"
   ]
  },
  {
   "cell_type": "code",
   "execution_count": 21,
   "metadata": {},
   "outputs": [],
   "source": [
    "y_pred_NB = classifierObj_NB.predict(X_test)"
   ]
  },
  {
   "cell_type": "code",
   "execution_count": 22,
   "metadata": {},
   "outputs": [
    {
     "name": "stdout",
     "output_type": "stream",
     "text": [
      "              precision    recall  f1-score   support\n",
      "\n",
      "       CAQ:A       0.00      0.00      0.00         1\n",
      "       CAQ:B       0.00      0.00      0.00        13\n",
      "       CAQ:C       0.46      0.35      0.40       197\n",
      "       CAQ:D       0.71      0.56      0.63       431\n",
      "      NCAQ:2       0.00      0.00      0.00         4\n",
      "      NCAQ:3       0.73      0.65      0.69       744\n",
      "      NCAQ:4       0.65      0.82      0.72       878\n",
      "\n",
      "    accuracy                           0.67      2268\n",
      "   macro avg       0.36      0.34      0.35      2268\n",
      "weighted avg       0.66      0.67      0.66      2268\n",
      "\n"
     ]
    }
   ],
   "source": [
    "print(metrics.classification_report(Y_test, y_pred_NB))"
   ]
  },
  {
   "cell_type": "code",
   "execution_count": 23,
   "metadata": {},
   "outputs": [
    {
     "name": "stdout",
     "output_type": "stream",
     "text": [
      "This is the confusion matrix: \n",
      "[[  0   0   0   0   0   0   1]\n",
      " [  0   0   6   1   0   4   2]\n",
      " [  0   0  69  36   0  49  43]\n",
      " [  0   0  20 243   0  19 149]\n",
      " [  0   0   0   0   0   4   0]\n",
      " [  0   0  49  15   0 480 200]\n",
      " [  0   0   7  49   0 100 722]]\n"
     ]
    }
   ],
   "source": [
    "cm_NB = confusion_matrix(Y_test, y_pred_NB)\n",
    "print(\"This is the confusion matrix: \")\n",
    "print(cm_NB)"
   ]
  },
  {
   "cell_type": "markdown",
   "metadata": {},
   "source": [
    "### Random Forest"
   ]
  },
  {
   "cell_type": "code",
   "execution_count": 15,
   "metadata": {},
   "outputs": [
    {
     "name": "stdout",
     "output_type": "stream",
     "text": [
      "Mean score accuracy:  0.6562975877090914\n",
      "95% confidence interval:  0.010887297058673492\n"
     ]
    }
   ],
   "source": [
    "classifier_Obj_Randfor = RandomForestClassifier(bootstrap=False, criterion='entropy', n_estimators=40)\n",
    "classifier_Obj_Randfor.fit(X_train, Y_train)\n",
    "\n",
    "modelAccuracies_RF = cross_val_score(estimator=classifier_Obj_Randfor, X=X_train, y=Y_train.values.ravel(),cv=10)\n",
    "print(\"Mean score accuracy: \", modelAccuracies_RF.mean())\n",
    "print(\"95% confidence interval: \", modelAccuracies_RF.std())"
   ]
  },
  {
   "cell_type": "code",
   "execution_count": 24,
   "metadata": {},
   "outputs": [
    {
     "name": "stdout",
     "output_type": "stream",
     "text": [
      "The overall accuracy of the model: 0.66 (+/- 0.02)\n"
     ]
    }
   ],
   "source": [
    "print(\"The overall accuracy of the model: %0.2f (+/- %0.2f)\" % (modelAccuracies_RF.mean(), modelAccuracies_RF.std() * 2))"
   ]
  },
  {
   "cell_type": "code",
   "execution_count": 25,
   "metadata": {},
   "outputs": [],
   "source": [
    "y_pred_RF = classifier_Obj_Randfor.predict(X_test)"
   ]
  },
  {
   "cell_type": "code",
   "execution_count": 26,
   "metadata": {},
   "outputs": [
    {
     "name": "stdout",
     "output_type": "stream",
     "text": [
      "              precision    recall  f1-score   support\n",
      "\n",
      "       CAQ:A       0.00      0.00      0.00         1\n",
      "       CAQ:B       0.00      0.00      0.00        13\n",
      "       CAQ:C       0.78      0.11      0.19       197\n",
      "       CAQ:D       0.85      0.37      0.52       431\n",
      "      NCAQ:2       0.00      0.00      0.00         4\n",
      "      NCAQ:3       0.64      0.78      0.71       744\n",
      "      NCAQ:4       0.64      0.83      0.72       878\n",
      "\n",
      "    accuracy                           0.66      2268\n",
      "   macro avg       0.42      0.30      0.30      2268\n",
      "weighted avg       0.69      0.66      0.63      2268\n",
      "\n"
     ]
    }
   ],
   "source": [
    "print(metrics.classification_report(Y_test, y_pred_RF))"
   ]
  },
  {
   "cell_type": "code",
   "execution_count": 27,
   "metadata": {},
   "outputs": [
    {
     "name": "stdout",
     "output_type": "stream",
     "text": [
      "This is the confusion matrix: \n",
      "[[  0   0   0   0   0   0   1]\n",
      " [  0   0   0   1   0  10   2]\n",
      " [  0   0  21   9   0 127  40]\n",
      " [  0   0   5 161   0  49 216]\n",
      " [  0   0   0   0   0   4   0]\n",
      " [  0   0   1   3   0 584 156]\n",
      " [  0   0   0  16   0 133 729]]\n"
     ]
    }
   ],
   "source": [
    "cm_RF = confusion_matrix(Y_test, y_pred_RF)\n",
    "print(\"This is the confusion matrix: \")\n",
    "print(cm_RF)"
   ]
  },
  {
   "cell_type": "markdown",
   "metadata": {},
   "source": [
    "### SVM using SGD"
   ]
  },
  {
   "cell_type": "code",
   "execution_count": 29,
   "metadata": {},
   "outputs": [
    {
     "name": "stdout",
     "output_type": "stream",
     "text": [
      "Mean score accuracy:  0.7116576359390284\n",
      "95% confidence interval:  0.012293575384724599\n"
     ]
    }
   ],
   "source": [
    "classifier_Obj_SVM = SGDClassifier(loss=\"hinge\", penalty=\"l2\", max_iter=5)\n",
    "classifier_Obj_SVM_linear.fit(X_train, Y_train)\n",
    "\n",
    "modelAccuracies_SVM = cross_val_score(estimator=classifier_Obj_SVM_linear, X=X_train, y=Y_train,cv=10)\n",
    "print(\"Mean score accuracy: \", modelAccuracies_SVM.mean())\n",
    "print(\"95% confidence interval: \", modelAccuracies_SVM.std())\n"
   ]
  },
  {
   "cell_type": "code",
   "execution_count": 30,
   "metadata": {},
   "outputs": [
    {
     "name": "stdout",
     "output_type": "stream",
     "text": [
      "The overall accuracy of the model: 0.71 (+/- 0.02)\n"
     ]
    }
   ],
   "source": [
    "print(\"The overall accuracy of the model: %0.2f (+/- %0.2f)\" % (modelAccuracies_SVM.mean(), modelAccuracies_SVM.std() * 2))"
   ]
  },
  {
   "cell_type": "code",
   "execution_count": 31,
   "metadata": {},
   "outputs": [],
   "source": [
    "y_pred_SVM = classifier_Obj_SVM_linear.predict(X_test)"
   ]
  },
  {
   "cell_type": "code",
   "execution_count": 32,
   "metadata": {},
   "outputs": [
    {
     "name": "stdout",
     "output_type": "stream",
     "text": [
      "              precision    recall  f1-score   support\n",
      "\n",
      "       CAQ:A       0.00      0.00      0.00         1\n",
      "       CAQ:B       0.00      0.00      0.00        13\n",
      "       CAQ:C       0.57      0.29      0.39       197\n",
      "       CAQ:D       0.74      0.61      0.67       431\n",
      "      NCAQ:2       0.00      0.00      0.00         4\n",
      "      NCAQ:3       0.71      0.75      0.73       744\n",
      "      NCAQ:4       0.70      0.81      0.75       878\n",
      "\n",
      "    accuracy                           0.70      2268\n",
      "   macro avg       0.39      0.35      0.36      2268\n",
      "weighted avg       0.69      0.70      0.69      2268\n",
      "\n"
     ]
    }
   ],
   "source": [
    "print(metrics.classification_report(Y_test, y_pred_SVM))"
   ]
  },
  {
   "cell_type": "code",
   "execution_count": 33,
   "metadata": {},
   "outputs": [
    {
     "name": "stdout",
     "output_type": "stream",
     "text": [
      "This is the confusion matrix: \n",
      "[[  0   0   0   1   0   0   0]\n",
      " [  0   0   4   3   0   5   1]\n",
      " [  0   0  58  39   0  78  22]\n",
      " [  0   0  19 265   0  21 126]\n",
      " [  0   0   0   0   0   4   0]\n",
      " [  0   0  16  10   0 556 162]\n",
      " [  0   0   5  42   0 117 714]]\n"
     ]
    }
   ],
   "source": [
    "cm_RF = confusion_matrix(Y_test, y_pred_SVM)\n",
    "print(\"This is the confusion matrix: \")\n",
    "print(cm_RF)"
   ]
  },
  {
   "cell_type": "code",
   "execution_count": null,
   "metadata": {},
   "outputs": [],
   "source": []
  }
 ],
 "metadata": {
  "kernelspec": {
   "display_name": "Python3.6",
   "language": "python",
   "name": "python3"
  },
  "language_info": {
   "codemirror_mode": {
    "name": "ipython",
    "version": 3
   },
   "file_extension": ".py",
   "mimetype": "text/x-python",
   "name": "python",
   "nbconvert_exporter": "python",
   "pygments_lexer": "ipython3",
   "version": "3.6.7"
  }
 },
 "nbformat": 4,
 "nbformat_minor": 2
}
