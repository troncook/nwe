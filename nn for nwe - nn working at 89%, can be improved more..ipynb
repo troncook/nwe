{
 "cells": [
  {
   "cell_type": "code",
   "execution_count": 1,
   "metadata": {},
   "outputs": [
    {
     "name": "stderr",
     "output_type": "stream",
     "text": [
      "Using TensorFlow backend.\n"
     ]
    }
   ],
   "source": [
    "import pandas as pd\n",
    "import matplotlib.pyplot as plt\n",
    "import seaborn as sns\n",
    "from keras.preprocessing.text import Tokenizer\n",
    "from keras.preprocessing.sequence import pad_sequences\n",
    "from keras.models import Sequential\n",
    "from keras.layers import Dense, Embedding, LSTM, SpatialDropout1D, Activation, Bidirectional\n",
    "from sklearn.model_selection import train_test_split\n",
    "from keras.utils.np_utils import to_categorical\n",
    "from keras.callbacks import EarlyStopping\n",
    "from keras.layers import Dropout\n",
    "import re\n",
    "from nltk.corpus import stopwords\n",
    "from nltk import word_tokenize\n",
    "STOPWORDS = set(stopwords.words('english'))\n",
    "from keras.layers import Conv1D, MaxPooling1D\n",
    "import numpy as np\n",
    "\n",
    "#Standard Libraries\n",
    "import numpy as np\n",
    "import pandas as pd\n",
    "import os\n",
    "\n",
    "#Data Preprocessing\n",
    "from sklearn.model_selection import train_test_split\n",
    "from sklearn.preprocessing import LabelEncoder\n",
    "\n",
    "#Vectorizers\n",
    "from sklearn.feature_extraction.text import CountVectorizer\n",
    "from sklearn.feature_extraction.text import TfidfTransformer, TfidfVectorizer\n",
    "\n",
    "#Model Evaluation\n",
    "from sklearn.model_selection import cross_val_score\n",
    "from sklearn.metrics import confusion_matrix\n",
    "\n",
    "#Visualizations\n",
    "import matplotlib.pyplot as plt"
   ]
  },
  {
   "cell_type": "code",
   "execution_count": 2,
   "metadata": {},
   "outputs": [],
   "source": [
    "data = pd.read_csv('energy_nw_clean_dataframe.csv')"
   ]
  },
  {
   "cell_type": "code",
   "execution_count": 3,
   "metadata": {},
   "outputs": [
    {
     "data": {
      "text/html": [
       "<div>\n",
       "<style scoped>\n",
       "    .dataframe tbody tr th:only-of-type {\n",
       "        vertical-align: middle;\n",
       "    }\n",
       "\n",
       "    .dataframe tbody tr th {\n",
       "        vertical-align: top;\n",
       "    }\n",
       "\n",
       "    .dataframe thead th {\n",
       "        text-align: right;\n",
       "    }\n",
       "</style>\n",
       "<table border=\"1\" class=\"dataframe\">\n",
       "  <thead>\n",
       "    <tr style=\"text-align: right;\">\n",
       "      <th></th>\n",
       "      <th>AR_NUMBER</th>\n",
       "      <th>AR_PRIORITY</th>\n",
       "      <th>AR_SEVERITY</th>\n",
       "      <th>PRIORITY_SEVERITY</th>\n",
       "      <th>CONCAT_TEXT_FOR_WKS</th>\n",
       "    </tr>\n",
       "  </thead>\n",
       "  <tbody>\n",
       "    <tr>\n",
       "      <td>0</td>\n",
       "      <td>383472</td>\n",
       "      <td>CAQ</td>\n",
       "      <td>C</td>\n",
       "      <td>CAQ:C</td>\n",
       "      <td>rcic hpcs low cst level swap fill vent suction...</td>\n",
       "    </tr>\n",
       "    <tr>\n",
       "      <td>1</td>\n",
       "      <td>383473</td>\n",
       "      <td>CAQ</td>\n",
       "      <td>D</td>\n",
       "      <td>CAQ:D</td>\n",
       "      <td>rcic p not start run sop rcic fill direct star...</td>\n",
       "    </tr>\n",
       "    <tr>\n",
       "      <td>2</td>\n",
       "      <td>383474</td>\n",
       "      <td>CAQ</td>\n",
       "      <td>D</td>\n",
       "      <td>CAQ:D</td>\n",
       "      <td>hp drop hpcs suction switchover alarm hp drop ...</td>\n",
       "    </tr>\n",
       "    <tr>\n",
       "      <td>3</td>\n",
       "      <td>383476</td>\n",
       "      <td>NCAQ</td>\n",
       "      <td>4</td>\n",
       "      <td>NCAQ:4</td>\n",
       "      <td>bre bre need window evaluate bre</td>\n",
       "    </tr>\n",
       "    <tr>\n",
       "      <td>4</td>\n",
       "      <td>383477</td>\n",
       "      <td>CAQ</td>\n",
       "      <td>D</td>\n",
       "      <td>CAQ:D</td>\n",
       "      <td>receive rod drive control sys inop alarm recei...</td>\n",
       "    </tr>\n",
       "    <tr>\n",
       "      <td>5</td>\n",
       "      <td>383478</td>\n",
       "      <td>CAQ</td>\n",
       "      <td>D</td>\n",
       "      <td>CAQ:D</td>\n",
       "      <td>hpcs suction switchover alarm locked fill vent...</td>\n",
       "    </tr>\n",
       "    <tr>\n",
       "      <td>6</td>\n",
       "      <td>383479</td>\n",
       "      <td>NCAQ</td>\n",
       "      <td>3</td>\n",
       "      <td>NCAQ:3</td>\n",
       "      <td>cw cta approx overflow operator round note due...</td>\n",
       "    </tr>\n",
       "    <tr>\n",
       "      <td>7</td>\n",
       "      <td>383490</td>\n",
       "      <td>CAQ</td>\n",
       "      <td>D</td>\n",
       "      <td>CAQ:D</td>\n",
       "      <td>security cctv need maintenance security cctv n...</td>\n",
       "    </tr>\n",
       "    <tr>\n",
       "      <td>8</td>\n",
       "      <td>383491</td>\n",
       "      <td>CAQ</td>\n",
       "      <td>C</td>\n",
       "      <td>CAQ:C</td>\n",
       "      <td>sw va change lo without screen anonymous cr de...</td>\n",
       "    </tr>\n",
       "    <tr>\n",
       "      <td>9</td>\n",
       "      <td>383497</td>\n",
       "      <td>NCAQ</td>\n",
       "      <td>3</td>\n",
       "      <td>NCAQ:3</td>\n",
       "      <td>ep copiers unable scan email new canon copiers...</td>\n",
       "    </tr>\n",
       "    <tr>\n",
       "      <td>10</td>\n",
       "      <td>383501</td>\n",
       "      <td>NCAQ</td>\n",
       "      <td>3</td>\n",
       "      <td>NCAQ:3</td>\n",
       "      <td>update need aed aed aed structural drawing aed...</td>\n",
       "    </tr>\n",
       "    <tr>\n",
       "      <td>11</td>\n",
       "      <td>383502</td>\n",
       "      <td>NCAQ</td>\n",
       "      <td>3</td>\n",
       "      <td>NCAQ:3</td>\n",
       "      <td>non acceptance administrative license amendmen...</td>\n",
       "    </tr>\n",
       "    <tr>\n",
       "      <td>12</td>\n",
       "      <td>383503</td>\n",
       "      <td>NCAQ</td>\n",
       "      <td>4</td>\n",
       "      <td>NCAQ:4</td>\n",
       "      <td>rrc trs datum storage card full rrc trs compac...</td>\n",
       "    </tr>\n",
       "    <tr>\n",
       "      <td>13</td>\n",
       "      <td>383504</td>\n",
       "      <td>NCAQ</td>\n",
       "      <td>4</td>\n",
       "      <td>NCAQ:4</td>\n",
       "      <td>gbp asu step not follow contrary gbp asu assig...</td>\n",
       "    </tr>\n",
       "    <tr>\n",
       "      <td>14</td>\n",
       "      <td>383505</td>\n",
       "      <td>CAQ</td>\n",
       "      <td>C</td>\n",
       "      <td>CAQ:C</td>\n",
       "      <td>fcp ground fault installation fcp annunciation...</td>\n",
       "    </tr>\n",
       "  </tbody>\n",
       "</table>\n",
       "</div>"
      ],
      "text/plain": [
       "    AR_NUMBER AR_PRIORITY AR_SEVERITY PRIORITY_SEVERITY  \\\n",
       "0      383472         CAQ           C             CAQ:C   \n",
       "1      383473         CAQ           D             CAQ:D   \n",
       "2      383474         CAQ           D             CAQ:D   \n",
       "3      383476        NCAQ           4            NCAQ:4   \n",
       "4      383477         CAQ           D             CAQ:D   \n",
       "5      383478         CAQ           D             CAQ:D   \n",
       "6      383479        NCAQ           3            NCAQ:3   \n",
       "7      383490         CAQ           D             CAQ:D   \n",
       "8      383491         CAQ           C             CAQ:C   \n",
       "9      383497        NCAQ           3            NCAQ:3   \n",
       "10     383501        NCAQ           3            NCAQ:3   \n",
       "11     383502        NCAQ           3            NCAQ:3   \n",
       "12     383503        NCAQ           4            NCAQ:4   \n",
       "13     383504        NCAQ           4            NCAQ:4   \n",
       "14     383505         CAQ           C             CAQ:C   \n",
       "\n",
       "                                  CONCAT_TEXT_FOR_WKS  \n",
       "0   rcic hpcs low cst level swap fill vent suction...  \n",
       "1   rcic p not start run sop rcic fill direct star...  \n",
       "2   hp drop hpcs suction switchover alarm hp drop ...  \n",
       "3                    bre bre need window evaluate bre  \n",
       "4   receive rod drive control sys inop alarm recei...  \n",
       "5   hpcs suction switchover alarm locked fill vent...  \n",
       "6   cw cta approx overflow operator round note due...  \n",
       "7   security cctv need maintenance security cctv n...  \n",
       "8   sw va change lo without screen anonymous cr de...  \n",
       "9   ep copiers unable scan email new canon copiers...  \n",
       "10  update need aed aed aed structural drawing aed...  \n",
       "11  non acceptance administrative license amendmen...  \n",
       "12  rrc trs datum storage card full rrc trs compac...  \n",
       "13  gbp asu step not follow contrary gbp asu assig...  \n",
       "14  fcp ground fault installation fcp annunciation...  "
      ]
     },
     "execution_count": 3,
     "metadata": {},
     "output_type": "execute_result"
    }
   ],
   "source": [
    "data.head(15)"
   ]
  },
  {
   "cell_type": "code",
   "execution_count": 4,
   "metadata": {},
   "outputs": [],
   "source": [
    "X_array = data.iloc[:,[0,1,3,4]].values\n",
    "Y_array = data.iloc[:,2].values"
   ]
  },
  {
   "cell_type": "code",
   "execution_count": 5,
   "metadata": {},
   "outputs": [
    {
     "data": {
      "text/html": [
       "<div>\n",
       "<style scoped>\n",
       "    .dataframe tbody tr th:only-of-type {\n",
       "        vertical-align: middle;\n",
       "    }\n",
       "\n",
       "    .dataframe tbody tr th {\n",
       "        vertical-align: top;\n",
       "    }\n",
       "\n",
       "    .dataframe thead th {\n",
       "        text-align: right;\n",
       "    }\n",
       "</style>\n",
       "<table border=\"1\" class=\"dataframe\">\n",
       "  <thead>\n",
       "    <tr style=\"text-align: right;\">\n",
       "      <th></th>\n",
       "      <th>AR_NUMBER</th>\n",
       "      <th>AR_PRIORITY</th>\n",
       "      <th>PRIORITY_SEVERITY</th>\n",
       "      <th>CONCAT_TEXT_FOR_WKS</th>\n",
       "    </tr>\n",
       "  </thead>\n",
       "  <tbody>\n",
       "    <tr>\n",
       "      <td>0</td>\n",
       "      <td>383472</td>\n",
       "      <td>CAQ</td>\n",
       "      <td>CAQ:C</td>\n",
       "      <td>rcic hpcs low cst level swap fill vent suction...</td>\n",
       "    </tr>\n",
       "    <tr>\n",
       "      <td>1</td>\n",
       "      <td>383473</td>\n",
       "      <td>CAQ</td>\n",
       "      <td>CAQ:D</td>\n",
       "      <td>rcic p not start run sop rcic fill direct star...</td>\n",
       "    </tr>\n",
       "    <tr>\n",
       "      <td>2</td>\n",
       "      <td>383474</td>\n",
       "      <td>CAQ</td>\n",
       "      <td>CAQ:D</td>\n",
       "      <td>hp drop hpcs suction switchover alarm hp drop ...</td>\n",
       "    </tr>\n",
       "    <tr>\n",
       "      <td>3</td>\n",
       "      <td>383476</td>\n",
       "      <td>NCAQ</td>\n",
       "      <td>NCAQ:4</td>\n",
       "      <td>bre bre need window evaluate bre</td>\n",
       "    </tr>\n",
       "    <tr>\n",
       "      <td>4</td>\n",
       "      <td>383477</td>\n",
       "      <td>CAQ</td>\n",
       "      <td>CAQ:D</td>\n",
       "      <td>receive rod drive control sys inop alarm recei...</td>\n",
       "    </tr>\n",
       "  </tbody>\n",
       "</table>\n",
       "</div>"
      ],
      "text/plain": [
       "  AR_NUMBER AR_PRIORITY PRIORITY_SEVERITY  \\\n",
       "0    383472         CAQ             CAQ:C   \n",
       "1    383473         CAQ             CAQ:D   \n",
       "2    383474         CAQ             CAQ:D   \n",
       "3    383476        NCAQ            NCAQ:4   \n",
       "4    383477         CAQ             CAQ:D   \n",
       "\n",
       "                                 CONCAT_TEXT_FOR_WKS  \n",
       "0  rcic hpcs low cst level swap fill vent suction...  \n",
       "1  rcic p not start run sop rcic fill direct star...  \n",
       "2  hp drop hpcs suction switchover alarm hp drop ...  \n",
       "3                   bre bre need window evaluate bre  \n",
       "4  receive rod drive control sys inop alarm recei...  "
      ]
     },
     "execution_count": 5,
     "metadata": {},
     "output_type": "execute_result"
    }
   ],
   "source": [
    "X = pd.DataFrame(X_array, columns=['AR_NUMBER', 'AR_PRIORITY','PRIORITY_SEVERITY','CONCAT_TEXT_FOR_WKS'])\n",
    "X.head(5)"
   ]
  },
  {
   "cell_type": "code",
   "execution_count": 6,
   "metadata": {},
   "outputs": [
    {
     "data": {
      "text/html": [
       "<div>\n",
       "<style scoped>\n",
       "    .dataframe tbody tr th:only-of-type {\n",
       "        vertical-align: middle;\n",
       "    }\n",
       "\n",
       "    .dataframe tbody tr th {\n",
       "        vertical-align: top;\n",
       "    }\n",
       "\n",
       "    .dataframe thead th {\n",
       "        text-align: right;\n",
       "    }\n",
       "</style>\n",
       "<table border=\"1\" class=\"dataframe\">\n",
       "  <thead>\n",
       "    <tr style=\"text-align: right;\">\n",
       "      <th></th>\n",
       "      <th>AR_SEVERITY</th>\n",
       "    </tr>\n",
       "  </thead>\n",
       "  <tbody>\n",
       "    <tr>\n",
       "      <td>0</td>\n",
       "      <td>C</td>\n",
       "    </tr>\n",
       "    <tr>\n",
       "      <td>1</td>\n",
       "      <td>D</td>\n",
       "    </tr>\n",
       "    <tr>\n",
       "      <td>2</td>\n",
       "      <td>D</td>\n",
       "    </tr>\n",
       "    <tr>\n",
       "      <td>3</td>\n",
       "      <td>4</td>\n",
       "    </tr>\n",
       "    <tr>\n",
       "      <td>4</td>\n",
       "      <td>D</td>\n",
       "    </tr>\n",
       "    <tr>\n",
       "      <td>5</td>\n",
       "      <td>D</td>\n",
       "    </tr>\n",
       "    <tr>\n",
       "      <td>6</td>\n",
       "      <td>3</td>\n",
       "    </tr>\n",
       "    <tr>\n",
       "      <td>7</td>\n",
       "      <td>D</td>\n",
       "    </tr>\n",
       "    <tr>\n",
       "      <td>8</td>\n",
       "      <td>C</td>\n",
       "    </tr>\n",
       "    <tr>\n",
       "      <td>9</td>\n",
       "      <td>3</td>\n",
       "    </tr>\n",
       "  </tbody>\n",
       "</table>\n",
       "</div>"
      ],
      "text/plain": [
       "  AR_SEVERITY\n",
       "0           C\n",
       "1           D\n",
       "2           D\n",
       "3           4\n",
       "4           D\n",
       "5           D\n",
       "6           3\n",
       "7           D\n",
       "8           C\n",
       "9           3"
      ]
     },
     "execution_count": 6,
     "metadata": {},
     "output_type": "execute_result"
    }
   ],
   "source": [
    "Y = pd.DataFrame(Y_array, columns=['AR_SEVERITY'])\n",
    "Y.head(10)"
   ]
  },
  {
   "cell_type": "code",
   "execution_count": 7,
   "metadata": {},
   "outputs": [],
   "source": [
    "Y_OHE = pd.get_dummies(data=Y, drop_first=True)"
   ]
  },
  {
   "cell_type": "code",
   "execution_count": 8,
   "metadata": {},
   "outputs": [],
   "source": [
    "X_OHE = pd.get_dummies(data=X, columns=['AR_PRIORITY'], drop_first=True)"
   ]
  },
  {
   "cell_type": "code",
   "execution_count": 9,
   "metadata": {},
   "outputs": [],
   "source": [
    "Y_PRIORITY = data.AR_PRIORITY\n",
    "Y_SEVERITY = data.AR_SEVERITY\n",
    "Y_PS = data.PRIORITY_SEVERITY"
   ]
  },
  {
   "cell_type": "code",
   "execution_count": 13,
   "metadata": {},
   "outputs": [],
   "source": [
    "X_train, X_test, y_train, y_test = train_test_split(X, Y, test_size = 0.10, random_state = 0)"
   ]
  },
  {
   "cell_type": "code",
   "execution_count": 14,
   "metadata": {},
   "outputs": [
    {
     "name": "stdout",
     "output_type": "stream",
     "text": [
      "(10203, 250) (10203, 6)\n",
      "(1134, 250) (1134, 6)\n"
     ]
    }
   ],
   "source": [
    "print(X_train.shape,y_train.shape)\n",
    "print(X_test.shape,y_test.shape)"
   ]
  },
  {
   "cell_type": "code",
   "execution_count": 10,
   "metadata": {},
   "outputs": [],
   "source": [
    "# The maximum number of words to be used. (most frequent)\n",
    "MAX_NB_WORDS = 50000\n",
    "# Max number of words in each complaint.\n",
    "MAX_SEQUENCE_LENGTH = 250\n",
    "# This is fixed.\n",
    "EMBEDDING_DIM = 100\n",
    "tokenizer = Tokenizer(num_words=MAX_NB_WORDS, filters='!\"#$%&()*+,-./:;<=>?@[\\]^_`{|}~', lower=True)\n",
    "tokenizer.fit_on_texts(X_OHE['CONCAT_TEXT_FOR_WKS'].values)"
   ]
  },
  {
   "cell_type": "code",
   "execution_count": 11,
   "metadata": {},
   "outputs": [
    {
     "name": "stdout",
     "output_type": "stream",
     "text": [
      "Shape of data tensor: (11337, 250)\n"
     ]
    }
   ],
   "source": [
    "X = tokenizer.texts_to_sequences(X_OHE['CONCAT_TEXT_FOR_WKS'].values)\n",
    "X = pad_sequences(X, maxlen=MAX_SEQUENCE_LENGTH)\n",
    "print('Shape of data tensor:', X.shape)"
   ]
  },
  {
   "cell_type": "code",
   "execution_count": 12,
   "metadata": {},
   "outputs": [
    {
     "name": "stdout",
     "output_type": "stream",
     "text": [
      "Shape of data tensor: (11337, 6)\n"
     ]
    }
   ],
   "source": [
    "Y = pd.get_dummies(Y_OHE)\n",
    "print('Shape of data tensor:', Y.shape)"
   ]
  },
  {
   "cell_type": "code",
   "execution_count": 15,
   "metadata": {},
   "outputs": [],
   "source": [
    "# Embedding\n",
    "max_features = 20000\n",
    "maxlen = 250\n",
    "embedding_size = 128\n",
    "\n",
    "# Convolution\n",
    "kernel_size = 5\n",
    "filters = 64\n",
    "pool_size = 4\n",
    "\n",
    "# LSTM\n",
    "lstm_output_size = 70"
   ]
  },
  {
   "cell_type": "code",
   "execution_count": 23,
   "metadata": {},
   "outputs": [
    {
     "name": "stdout",
     "output_type": "stream",
     "text": [
      "_________________________________________________________________\n",
      "Layer (type)                 Output Shape              Param #   \n",
      "=================================================================\n",
      "embedding_2 (Embedding)      (None, 250, 128)          2560000   \n",
      "_________________________________________________________________\n",
      "dense_5 (Dense)              (None, 250, 128)          16512     \n",
      "_________________________________________________________________\n",
      "dropout_4 (Dropout)          (None, 250, 128)          0         \n",
      "_________________________________________________________________\n",
      "conv1d_2 (Conv1D)            (None, 246, 64)           41024     \n",
      "_________________________________________________________________\n",
      "max_pooling1d_2 (MaxPooling1 (None, 61, 64)            0         \n",
      "_________________________________________________________________\n",
      "dropout_5 (Dropout)          (None, 61, 64)            0         \n",
      "_________________________________________________________________\n",
      "dense_6 (Dense)              (None, 61, 64)            4160      \n",
      "_________________________________________________________________\n",
      "lstm_2 (LSTM)                (None, 70)                37800     \n",
      "_________________________________________________________________\n",
      "dense_7 (Dense)              (None, 64)                4544      \n",
      "_________________________________________________________________\n",
      "dropout_6 (Dropout)          (None, 64)                0         \n",
      "_________________________________________________________________\n",
      "dense_8 (Dense)              (None, 6)                 390       \n",
      "_________________________________________________________________\n",
      "activation_2 (Activation)    (None, 6)                 0         \n",
      "=================================================================\n",
      "Total params: 2,664,430\n",
      "Trainable params: 2,664,430\n",
      "Non-trainable params: 0\n",
      "_________________________________________________________________\n",
      "None\n"
     ]
    }
   ],
   "source": [
    "model = Sequential()\n",
    "model.add(Embedding(max_features, embedding_size, input_length=maxlen))\n",
    "model.add(Dense(128, activation='relu'))\n",
    "model.add(Dropout(0.5))\n",
    "model.add(Conv1D(filters,\n",
    "                 kernel_size,\n",
    "                 padding='valid',\n",
    "                 activation='relu',\n",
    "                 strides=1))\n",
    "model.add(MaxPooling1D(pool_size=pool_size))\n",
    "model.add(Dropout(0.5))\n",
    "model.add(Dense(64, activation='relu'))\n",
    "model.add(LSTM(lstm_output_size))\n",
    "model.add(Dense(64, activation='relu'))\n",
    "model.add(Dropout(0.5))\n",
    "model.add(Dense(6))\n",
    "model.add(Activation('softmax'))\n",
    "model.compile(loss='binary_crossentropy', optimizer='adam', metrics=['accuracy'])\n",
    "print(model.summary())"
   ]
  },
  {
   "cell_type": "code",
   "execution_count": 24,
   "metadata": {},
   "outputs": [
    {
     "name": "stdout",
     "output_type": "stream",
     "text": [
      "Train on 9182 samples, validate on 1021 samples\n",
      "Epoch 1/4\n",
      "9182/9182 [==============================] - 21s 2ms/step - loss: 0.3637 - acc: 0.8354 - val_loss: 0.3211 - val_acc: 0.8511\n",
      "Epoch 2/4\n",
      "9182/9182 [==============================] - 21s 2ms/step - loss: 0.2832 - acc: 0.8744 - val_loss: 0.2511 - val_acc: 0.8910\n",
      "Epoch 3/4\n",
      "9182/9182 [==============================] - 20s 2ms/step - loss: 0.2135 - acc: 0.9134 - val_loss: 0.2578 - val_acc: 0.8880\n",
      "Epoch 4/4\n",
      "9182/9182 [==============================] - 20s 2ms/step - loss: 0.1713 - acc: 0.9358 - val_loss: 0.2774 - val_acc: 0.8867\n"
     ]
    }
   ],
   "source": [
    "epochs = 4\n",
    "batch_size = 64\n",
    "\n",
    "history = model.fit(X_train, y_train, epochs=epochs, batch_size=batch_size, verbose=1, validation_split=0.1)"
   ]
  },
  {
   "cell_type": "code",
   "execution_count": 25,
   "metadata": {},
   "outputs": [
    {
     "name": "stdout",
     "output_type": "stream",
     "text": [
      "1134/1134 [==============================] - 1s 544us/step\n",
      "Test set\n",
      "  Loss: 0.288\n",
      "  Accuracy: 0.885\n"
     ]
    }
   ],
   "source": [
    "accr = model.evaluate(X_test,y_test)\n",
    "print('Test set\\n  Loss: {:0.3f}\\n  Accuracy: {:0.3f}'.format(accr[0],accr[1]))"
   ]
  },
  {
   "cell_type": "code",
   "execution_count": 26,
   "metadata": {},
   "outputs": [
    {
     "data": {
      "image/png": "[encoded data removed]",
      "text/plain": [
       "<Figure size 432x288 with 1 Axes>"
      ]
     },
     "metadata": {
      "needs_background": "light"
     },
     "output_type": "display_data"
    }
   ],
   "source": [
    "plt.title('Loss')\n",
    "plt.plot(history.history['loss'], label='train')\n",
    "plt.plot(history.history['val_loss'], label='test')\n",
    "plt.legend()\n",
    "plt.show();"
   ]
  },
  {
   "cell_type": "code",
   "execution_count": 27,
   "metadata": {},
   "outputs": [
    {
     "data": {
      "image/png": "[encoded data removed]",
      "text/plain": [
       "<Figure size 432x288 with 1 Axes>"
      ]
     },
     "metadata": {
      "needs_background": "light"
     },
     "output_type": "display_data"
    }
   ],
   "source": [
    "plt.title('Accuracy')\n",
    "plt.plot(history.history['acc'], label='train')\n",
    "plt.plot(history.history['val_acc'], label='test')\n",
    "plt.legend()\n",
    "plt.show();"
   ]
  },
  {
   "cell_type": "code",
   "execution_count": 28,
   "metadata": {},
   "outputs": [
    {
     "name": "stdout",
     "output_type": "stream",
     "text": [
      "[[1.2814115e-02 5.1948839e-01 1.1558462e-04 4.4111745e-04 1.8347522e-02\n",
      "  4.4879323e-01]] CAQ:D\n"
     ]
    }
   ],
   "source": [
    "#correct severity is CAQ D, ar number 383568\n",
    "new_complaint = [' While testing the TSC public address and alerting tones per  WO 02095754 the PA was not heard in Deschutes or the Main Control Room.  The alerting tones sounded in all locations. The Control room PA and alerting tone remain fully functional.']\n",
    "seq = tokenizer.texts_to_sequences(new_complaint)\n",
    "padded = pad_sequences(seq, maxlen=MAX_SEQUENCE_LENGTH)\n",
    "pred = model.predict(padded)\n",
    "labels = ['CAQ:A, CAQ:B, CAQ:C', 'CAQ:D', 'NCAQ:1', 'NCAQ:2', 'NCAQ:3', 'NCAQ:4']\n",
    "print(pred, labels[np.argmax(pred)])"
   ]
  },
  {
   "cell_type": "code",
   "execution_count": null,
   "metadata": {},
   "outputs": [],
   "source": []
  }
 ],
 "metadata": {
  "kernelspec": {
   "display_name": "Python 3",
   "language": "python",
   "name": "python3"
  },
  "language_info": {
   "codemirror_mode": {
    "name": "ipython",
    "version": 3
   },
   "file_extension": ".py",
   "mimetype": "text/x-python",
   "name": "python",
   "nbconvert_exporter": "python",
   "pygments_lexer": "ipython3",
   "version": "3.7.4"
  }
 },
 "nbformat": 4,
 "nbformat_minor": 2
}
